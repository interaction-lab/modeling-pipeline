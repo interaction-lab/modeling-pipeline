{
 "cells": [
  {
   "cell_type": "markdown",
   "metadata": {},
   "source": [
    "# Pipeline Walkthrough Part 1.\n",
    "\n",
    "## Data Preparation\n",
    "\n",
    "In this example I will be giving a (mostly) complete walkthrough of the entire modeling pipeline. I will show how the pipeline can be used to quickly and easily develop machine learning models of human behaviors. Starting with a short example video clip, this walkthrough will include the following steps:\n",
    "\n",
    "1. Seperating audio from video\n",
    "2. Extracting relevant features from audio and video\n",
    "3. Producing simple labels (voice activity labels)\n",
    "4. Choosing appropriate features\n",
    "\n",
    "In part 2 I will show how to train a model\n"
   ]
  },
  {
   "cell_type": "markdown",
   "metadata": {},
   "source": [
    "# Notebook Setup\n",
    "\n",
    "First, we need to get set up. Right now this package is still under development and hasn't been released as a pip package, so we will be using the source code directly. The first step is to make sure that the package root directory is in our python path:"
   ]
  },
  {
   "cell_type": "code",
   "execution_count": 1,
   "metadata": {
    "tags": []
   },
   "outputs": [
    {
     "data": {
      "text/plain": [
       "['/home/interactionlab/chrisb/modeling-pipeline',\n",
       " '/home/interactionlab/chrisb/modeling-pipeline/examples/walkthrough',\n",
       " '/home/interactionlab/anaconda3/envs/modelenv/lib/python38.zip',\n",
       " '/home/interactionlab/anaconda3/envs/modelenv/lib/python3.8',\n",
       " '/home/interactionlab/anaconda3/envs/modelenv/lib/python3.8/lib-dynload',\n",
       " '',\n",
       " '/home/interactionlab/anaconda3/envs/modelenv/lib/python3.8/site-packages',\n",
       " '/home/interactionlab/anaconda3/envs/modelenv/lib/python3.8/site-packages/IPython/extensions',\n",
       " '/home/interactionlab/.ipython']"
      ]
     },
     "execution_count": 1,
     "metadata": {},
     "output_type": "execute_result"
    }
   ],
   "source": [
    "import sys\n",
    "import os\n",
    "\n",
    "# Inserts the package root \"modeling-pipeline\" into the python path\n",
    "sys.path.insert(0, os.path.abspath('../..'))\n",
    "\n",
    "# The following will throw an error if the package hasn't been added to the path properly:\n",
    "from pipeline.common.file_utils import get_dirs_from_config\n",
    "\n",
    "# We can use sys.path to see what the path includes:\n",
    "sys.path"
   ]
  },
  {
   "cell_type": "markdown",
   "metadata": {
    "tags": []
   },
   "source": [
    "Now that we can see that the modeling-pipeline is in our path, we can import modules with the following:\n",
    "\n",
    "`from pipeline.common.file_utils import get_dirs_from_config`\n",
    "\n",
    "Which will import the get_dirs_from_config function from the file_utils module in the common module in our pipeline package. \n",
    "\n",
    "Note: if you make changes to any of the packages **you may need to restart this notebook's kernel** in order for the import to be reloaded with your changes."
   ]
  },
  {
   "cell_type": "markdown",
   "metadata": {
    "tags": []
   },
   "source": [
    "# 0. File Manipulation Example (e.g. get_dirs_from_config())\n",
    "\n",
    "One of the biggest annoyances with working with custom datasets on different computers and platforms is custom dataset organization and file manipulation. Path structures are coded differently on windows and linux systems (/ vs \\\\) and datasets may be organized differently (e.g. keeping files together by session or by file type - audio together, video together, etc.).\n",
    "\n",
    "Additionally, paths are different across hard drives and machines, which can lead to variable path switching in files that shouldn't contain path details. \n",
    "\n",
    "To improve working across platforms, this toolkit provides a function for generating a list of files from a configuration file, get_dirs_from_config. This function returns a list of direct file paths from the configuration, which can be used by the functions in the pipeline. A complete example of this is shown in step 1. Seperating Audio From Video. For now, take a look at the following example of how the support group dataset is configured on my personal computer:\n",
    "\n",
    "```\n",
    "dir_pattern:\n",
    "  - /\n",
    "  - media\n",
    "  - chris\n",
    "  - M2\n",
    "  - 1-Raw_Data\n",
    "  - Videos\n",
    "  - dir1\n",
    "  - raw_camera_output\n",
    "  - dir2\n",
    "```\n",
    "substitutes:\n",
    "```\n",
    "dir1:\n",
    "    - 1\n",
    "    - 2\n",
    "    - 3\n",
    "```\n",
    "\n",
    "```\n",
    "dir2:\n",
    "    - left.mp4\n",
    "    - right.mp4\n",
    "    - center.mp4\n",
    "```\n",
    "\n",
    "As can be seen in the next cell:\n"
   ]
  },
  {
   "cell_type": "code",
   "execution_count": 2,
   "metadata": {
    "tags": []
   },
   "outputs": [
    {
     "data": {
      "text/plain": [
       "['/media/chris/M2/1-Raw_Data/Videos/1/raw_camera_output/left.mp4',\n",
       " '/media/chris/M2/1-Raw_Data/Videos/1/raw_camera_output/right.mp4',\n",
       " '/media/chris/M2/1-Raw_Data/Videos/1/raw_camera_output/center.mp4',\n",
       " '/media/chris/M2/1-Raw_Data/Videos/2/raw_camera_output/left.mp4',\n",
       " '/media/chris/M2/1-Raw_Data/Videos/2/raw_camera_output/right.mp4',\n",
       " '/media/chris/M2/1-Raw_Data/Videos/2/raw_camera_output/center.mp4',\n",
       " '/media/chris/M2/1-Raw_Data/Videos/3/raw_camera_output/left.mp4',\n",
       " '/media/chris/M2/1-Raw_Data/Videos/3/raw_camera_output/right.mp4',\n",
       " '/media/chris/M2/1-Raw_Data/Videos/3/raw_camera_output/center.mp4']"
      ]
     },
     "execution_count": 2,
     "metadata": {},
     "output_type": "execute_result"
    }
   ],
   "source": [
    "from pipeline.common.file_utils import get_dirs_from_config\n",
    "\n",
    "# the provided sample config shows how the support group dataset is set up. It is useful as an example\n",
    "# because it shows how the substitution works combinatorially \n",
    "get_dirs_from_config('../../pipeline/common/utils_config/dir_sample_config.yml')"
   ]
  },
  {
   "cell_type": "markdown",
   "metadata": {
    "tags": []
   },
   "source": [
    "As you can see, this generates full paths for all the video files, which have been recorded on this dataset. We can generate a parallel output list of destination folders or files which we can then pass together to any of the appropriate functions in the pipeline (e.g. audio_from_video).\n",
    "\n",
    "To modify this to work for a windows machine, one only has to change the base path to the appropriate directory (e.g. c:, path, to, dataset)"
   ]
  },
  {
   "cell_type": "markdown",
   "metadata": {
    "tags": []
   },
   "source": [
    "# 1. Seperating Audio From Video\n",
    "\n",
    "Here I will show how to seperate the audio from video in our example. Since we only are using one video in this walkthrough, using the dataset file utilities may be overkill, but I will use them to show what it would be like for a larger dataset.\n",
    "\n",
    "Many of the functions in the pipeline are simply wrappers on command line calls. These could also be accomplished with bash scripting, but because this is a python package we are including the wrappers as methods in the modules.\n",
    "\n",
    "For example, audio_from_video() wraps the call ` $ffmpeg -i {src_video} -ac 1 {dst_audio}` to the command line"
   ]
  },
  {
   "cell_type": "code",
   "execution_count": 3,
   "metadata": {
    "collapsed": true,
    "jupyter": {
     "outputs_hidden": true
    },
    "tags": []
   },
   "outputs": [
    {
     "name": "stdout",
     "output_type": "stream",
     "text": [
      "$ ffmpeg -i ../../data/video/1/short_example.mp4 -ac 1 ../../data/audio/1/short_example.wav\n"
     ]
    }
   ],
   "source": [
    "# Method using functions directly:\n",
    "from pipeline.common.file_utils import audio_from_video\n",
    "\n",
    "src_video = \"../../data/video/1/short_example.mp4\"\n",
    "dst_audio = \"../../data/audio/1/short_example.wav\"\n",
    "\n",
    "audio_from_video(src_video, dst_audio)"
   ]
  },
  {
   "cell_type": "code",
   "execution_count": 4,
   "metadata": {
    "collapsed": true,
    "jupyter": {
     "outputs_hidden": true
    },
    "tags": []
   },
   "outputs": [
    {
     "name": "stdout",
     "output_type": "stream",
     "text": [
      "$ ffmpeg -i /home/interactionlab/chrisb/modeling-pipeline/data/video/1/short_example.mp4 -ac 1 /home/interactionlab/chrisb/modeling-pipeline/data/audio/1/short_example.wav\n",
      "$ ffmpeg -i /home/interactionlab/chrisb/modeling-pipeline/data/video/2/short_example.mp4 -ac 1 /home/interactionlab/chrisb/modeling-pipeline/data/audio/2/short_example.wav\n",
      "$ ffmpeg -i /home/interactionlab/chrisb/modeling-pipeline/data/video/3/short_example.mp4 -ac 1 /home/interactionlab/chrisb/modeling-pipeline/data/audio/3/short_example.wav\n",
      "$ ffmpeg -i /home/interactionlab/chrisb/modeling-pipeline/data/video/4/short_example.mp4 -ac 1 /home/interactionlab/chrisb/modeling-pipeline/data/audio/4/short_example.wav\n",
      "$ ffmpeg -i /home/interactionlab/chrisb/modeling-pipeline/data/video/5/short_example.mp4 -ac 1 /home/interactionlab/chrisb/modeling-pipeline/data/audio/5/short_example.wav\n",
      "$ ffmpeg -i /home/interactionlab/chrisb/modeling-pipeline/data/video/6/short_example.mp4 -ac 1 /home/interactionlab/chrisb/modeling-pipeline/data/audio/6/short_example.wav\n",
      "$ ffmpeg -i /home/interactionlab/chrisb/modeling-pipeline/data/video/7/short_example.mp4 -ac 1 /home/interactionlab/chrisb/modeling-pipeline/data/audio/7/short_example.wav\n",
      "$ ffmpeg -i /home/interactionlab/chrisb/modeling-pipeline/data/video/8/short_example.mp4 -ac 1 /home/interactionlab/chrisb/modeling-pipeline/data/audio/8/short_example.wav\n",
      "$ ffmpeg -i /home/interactionlab/chrisb/modeling-pipeline/data/video/9/short_example.mp4 -ac 1 /home/interactionlab/chrisb/modeling-pipeline/data/audio/9/short_example.wav\n",
      "$ ffmpeg -i /home/interactionlab/chrisb/modeling-pipeline/data/video/10/short_example.mp4 -ac 1 /home/interactionlab/chrisb/modeling-pipeline/data/audio/10/short_example.wav\n",
      "$ ffmpeg -i /home/interactionlab/chrisb/modeling-pipeline/data/video/11/short_example.mp4 -ac 1 /home/interactionlab/chrisb/modeling-pipeline/data/audio/11/short_example.wav\n",
      "$ ffmpeg -i /home/interactionlab/chrisb/modeling-pipeline/data/video/12/short_example.mp4 -ac 1 /home/interactionlab/chrisb/modeling-pipeline/data/audio/12/short_example.wav\n",
      "$ ffmpeg -i /home/interactionlab/chrisb/modeling-pipeline/data/video/13/short_example.mp4 -ac 1 /home/interactionlab/chrisb/modeling-pipeline/data/audio/13/short_example.wav\n"
     ]
    }
   ],
   "source": [
    "# Method using file utilities\n",
    "from pipeline.common.file_utils import get_dirs_from_config\n",
    "from pipeline.common.file_utils import audio_from_video\n",
    "\n",
    "v_paths = get_dirs_from_config(\"./walkthrough_configs/video.yml\")\n",
    "a_paths = get_dirs_from_config(\"./walkthrough_configs/audio.yml\")\n",
    "\n",
    "for i in range(len(v_paths)):\n",
    "    # NOTE FFMPEG sometimes fails to gel with os.popen calls in jupyter notebooks - just run this code in the terminal instead\n",
    "    audio_from_video(v_paths[i], a_paths[i])\n"
   ]
  },
  {
   "cell_type": "markdown",
   "metadata": {
    "tags": []
   },
   "source": [
    "# 2. Feature Extraction\n",
    "\n",
    "Here we will see how to extract audio and video features. Extracting audio features can be done with either Librosa or OpenSmile, which are available as pip packages. Extracting facial features can be done with OpenFace, which unfortunately requires a seperate installation. \n",
    "\n",
    "To be more efficient with file utility here, we will reuse the same feature pattern across the features we are looking for."
   ]
  },
  {
   "cell_type": "code",
   "execution_count": 7,
   "metadata": {
    "collapsed": true,
    "jupyter": {
     "outputs_hidden": true
    },
    "tags": []
   },
   "outputs": [
    {
     "name": "stdout",
     "output_type": "stream",
     "text": [
      "Ignoring empty camera frame.\n",
      "Ignoring empty camera frame.\n",
      "Ignoring empty camera frame.\n",
      "Ignoring empty camera frame.\n",
      "Ignoring empty camera frame.\n",
      "Ignoring empty camera frame.\n",
      "Ignoring empty camera frame.\n",
      "Ignoring empty camera frame.\n",
      "Ignoring empty camera frame.\n",
      "Ignoring empty camera frame.\n",
      "Ignoring empty camera frame.\n",
      "Ignoring empty camera frame.\n",
      "Ignoring empty camera frame.\n"
     ]
    }
   ],
   "source": [
    "from pipeline.feature_extraction.librosa_features import get_librosa_features\n",
    "from pipeline.feature_extraction.opensmile_features import get_opensmile_features\n",
    "from pipeline.feature_extraction.facemesh_features import get_facemesh_features\n",
    "\n",
    "# from pipeline.feature_extraction.openface_features import get_openface_features\n",
    "# (remember to install openface first https://github.com/TadasBaltrusaitis/OpenFace/wiki/Unix-Installation)\n",
    "\n",
    "openface_exe_path = \"/home/chris/Programs/OpenFace/build/bin/FeatureExtraction\"\n",
    "\n",
    "v_paths = get_dirs_from_config(\"./walkthrough_configs/video.yml\")\n",
    "a_paths = get_dirs_from_config(\"./walkthrough_configs/audio.yml\")\n",
    "feat_paths = get_dirs_from_config(\"./walkthrough_configs/feats.yml\")\n",
    "\n",
    "for i in range(len(a_paths)):\n",
    "    # It is easy to reuse the feature paths if they just point to a directory\n",
    "    l = get_librosa_features(a_paths[i], feat_paths[i]+\"/librosa_audio.csv\")\n",
    "    o = get_opensmile_features(a_paths[i], feat_paths[i]+\"/opensmile_audio.csv\")\n",
    "    f = get_facemesh_features(v_paths[i], feat_paths[i]+\"/mediapipe_facemesh.csv\")\n",
    "    \n",
    "    # OpenFace must be installed prior to running. This demo is being created on\n",
    "    # Ubuntu 20.04, which is not supported. So these features will not be used \n",
    "    # in this example.\n",
    "    \n",
    "    # On a system with openface installed, the following can be used:\n",
    "    # get_openface_features(openface_exe_path, v_paths[i], feat_paths[i]+\"/\")\n"
   ]
  },
  {
   "cell_type": "markdown",
   "metadata": {
    "tags": []
   },
   "source": [
    "# 3. Annotation Generation\n",
    "\n",
    "For this simple example I will not go through the available annotation options. Instead we will just use voice activity as our label. This could generally be considered a feature, but for this walkthrough we will use it as a label.\n",
    "\n",
    "In addition, annotation expects the utterances json to have a label, so for this example will just edit the utterances.json `\"speaker\": \"\"` to be `\"speaker\":\"speaking\"`. This will make \"speaking\" our one hot label."
   ]
  },
  {
   "cell_type": "code",
   "execution_count": 13,
   "metadata": {
    "collapsed": true,
    "jupyter": {
     "outputs_hidden": true
    },
    "tags": []
   },
   "outputs": [
    {
     "name": "stdout",
     "output_type": "stream",
     "text": [
      "/home/interactionlab/chrisb/modeling-pipeline/data/walkthrough/audio/1/short_example.wav\n",
      " Writing /home/interactionlab/chrisb/modeling-pipeline/data/walkthrough/va_output/1/chunks/00.wav 0.42000000000000015 2.0400000000000014\n",
      " Writing /home/interactionlab/chrisb/modeling-pipeline/data/walkthrough/va_output/1/chunks/01.wav 2.100000000000001 3.2699999999999934\n",
      " Writing /home/interactionlab/chrisb/modeling-pipeline/data/walkthrough/va_output/1/chunks/02.wav 3.659999999999991 6.900000000000013\n",
      " Writing /home/interactionlab/chrisb/modeling-pipeline/data/walkthrough/va_output/1/chunks/03.wav 6.960000000000013 9.149999999999997\n",
      " Writing /home/interactionlab/chrisb/modeling-pipeline/data/walkthrough/va_output/1/chunks/04.wav 20.340000000000014 27.720000000000294\n",
      " Writing /home/interactionlab/chrisb/modeling-pipeline/data/walkthrough/va_output/1/chunks/05.wav 28.620000000000328 29.49000000000036\n",
      "\n",
      "Labels include: \n",
      " ['speaking']\n"
     ]
    },
    {
     "data": {
      "application/json": {
       "ascii": false,
       "bar_format": null,
       "colour": null,
       "elapsed": 0.015247106552124023,
       "initial": 0,
       "n": 0,
       "ncols": null,
       "nrows": null,
       "postfix": null,
       "prefix": "Pandas Apply",
       "rate": null,
       "total": 885,
       "unit": "it",
       "unit_divisor": 1000,
       "unit_scale": false
      },
      "application/vnd.jupyter.widget-view+json": {
       "model_id": "43792999a77d4ceca0a8378a0d9b76a5",
       "version_major": 2,
       "version_minor": 0
      },
      "text/plain": [
       "Pandas Apply:   0%|          | 0/885 [00:00<?, ?it/s]"
      ]
     },
     "metadata": {},
     "output_type": "display_data"
    },
    {
     "data": {
      "application/json": {
       "ascii": false,
       "bar_format": null,
       "colour": null,
       "elapsed": 0.010691165924072266,
       "initial": 0,
       "n": 0,
       "ncols": null,
       "nrows": null,
       "postfix": null,
       "prefix": "Pandas Apply",
       "rate": null,
       "total": 885,
       "unit": "it",
       "unit_divisor": 1000,
       "unit_scale": false
      },
      "application/vnd.jupyter.widget-view+json": {
       "model_id": "168f97499dbb408b9c31b5c7e541c1eb",
       "version_major": 2,
       "version_minor": 0
      },
      "text/plain": [
       "Pandas Apply:   0%|          | 0/885 [00:00<?, ?it/s]"
      ]
     },
     "metadata": {},
     "output_type": "display_data"
    },
    {
     "name": "stdout",
     "output_type": "stream",
     "text": [
      "/home/interactionlab/chrisb/modeling-pipeline/data/walkthrough/audio/2/short_example.wav\n",
      " Writing /home/interactionlab/chrisb/modeling-pipeline/data/walkthrough/va_output/2/chunks/00.wav 7.320000000000016 8.010000000000021\n",
      " Writing /home/interactionlab/chrisb/modeling-pipeline/data/walkthrough/va_output/2/chunks/01.wav 8.190000000000017 9.839999999999982\n",
      " Writing /home/interactionlab/chrisb/modeling-pipeline/data/walkthrough/va_output/2/chunks/02.wav 9.92999999999998 10.769999999999962\n",
      " Writing /home/interactionlab/chrisb/modeling-pipeline/data/walkthrough/va_output/2/chunks/03.wav 14.489999999999883 16.439999999999866\n",
      " Writing /home/interactionlab/chrisb/modeling-pipeline/data/walkthrough/va_output/2/chunks/04.wav 17.63999999999991 18.329999999999938\n",
      " Writing /home/interactionlab/chrisb/modeling-pipeline/data/walkthrough/va_output/2/chunks/05.wav 18.62999999999995 22.11000000000008\n",
      " Writing /home/interactionlab/chrisb/modeling-pipeline/data/walkthrough/va_output/2/chunks/06.wav 22.83000000000011 28.770000000000334\n",
      " Writing /home/interactionlab/chrisb/modeling-pipeline/data/walkthrough/va_output/2/chunks/07.wav 29.010000000000343 33.120000000000495\n",
      " Writing /home/interactionlab/chrisb/modeling-pipeline/data/walkthrough/va_output/2/chunks/08.wav 34.440000000000545 38.85000000000071\n",
      " Writing /home/interactionlab/chrisb/modeling-pipeline/data/walkthrough/va_output/2/chunks/09.wav 40.68000000000078 49.1700000000011\n",
      " Writing /home/interactionlab/chrisb/modeling-pipeline/data/walkthrough/va_output/2/chunks/10.wav 58.62000000000146 67.6200000000018\n",
      " Writing /home/interactionlab/chrisb/modeling-pipeline/data/walkthrough/va_output/2/chunks/11.wav 73.41000000000201 78.4800000000022\n",
      " Writing /home/interactionlab/chrisb/modeling-pipeline/data/walkthrough/va_output/2/chunks/12.wav 79.17000000000223 79.98000000000226\n",
      " Writing /home/interactionlab/chrisb/modeling-pipeline/data/walkthrough/va_output/2/chunks/13.wav 81.69000000000233 84.87000000000245\n",
      " Writing /home/interactionlab/chrisb/modeling-pipeline/data/walkthrough/va_output/2/chunks/14.wav 89.37000000000262 94.59000000000282\n",
      " Writing /home/interactionlab/chrisb/modeling-pipeline/data/walkthrough/va_output/2/chunks/15.wav 96.7500000000029 100.41000000000304\n",
      " Writing /home/interactionlab/chrisb/modeling-pipeline/data/walkthrough/va_output/2/chunks/16.wav 100.53000000000304 106.14000000000325\n",
      " Writing /home/interactionlab/chrisb/modeling-pipeline/data/walkthrough/va_output/2/chunks/17.wav 111.06000000000344 115.56000000000361\n",
      " Writing /home/interactionlab/chrisb/modeling-pipeline/data/walkthrough/va_output/2/chunks/18.wav 115.71000000000362 122.31000000000387\n",
      " Writing /home/interactionlab/chrisb/modeling-pipeline/data/walkthrough/va_output/2/chunks/19.wav 124.95000000000397 131.70000000000422\n",
      " Writing /home/interactionlab/chrisb/modeling-pipeline/data/walkthrough/va_output/2/chunks/20.wav 133.9800000000043 141.7800000000046\n",
      " Writing /home/interactionlab/chrisb/modeling-pipeline/data/walkthrough/va_output/2/chunks/21.wav 142.47000000000463 143.16000000000466\n",
      " Writing /home/interactionlab/chrisb/modeling-pipeline/data/walkthrough/va_output/2/chunks/22.wav 147.2400000000048 155.91000000000514\n",
      " Writing /home/interactionlab/chrisb/modeling-pipeline/data/walkthrough/va_output/2/chunks/23.wav 155.94000000000514 156.87000000000518\n",
      " Writing /home/interactionlab/chrisb/modeling-pipeline/data/walkthrough/va_output/2/chunks/24.wav 157.7100000000052 159.18000000000526\n",
      " Writing /home/interactionlab/chrisb/modeling-pipeline/data/walkthrough/va_output/2/chunks/25.wav 159.42000000000527 165.96000000000552\n",
      " Writing /home/interactionlab/chrisb/modeling-pipeline/data/walkthrough/va_output/2/chunks/26.wav 166.05000000000553 168.84000000000563\n",
      " Writing /home/interactionlab/chrisb/modeling-pipeline/data/walkthrough/va_output/2/chunks/27.wav 170.5800000000057 177.09000000000594\n",
      " Writing /home/interactionlab/chrisb/modeling-pipeline/data/walkthrough/va_output/2/chunks/28.wav 177.24000000000595 182.10000000000613\n",
      " Writing /home/interactionlab/chrisb/modeling-pipeline/data/walkthrough/va_output/2/chunks/29.wav 185.52000000000626 194.2800000000066\n",
      " Writing /home/interactionlab/chrisb/modeling-pipeline/data/walkthrough/va_output/2/chunks/30.wav 194.2800000000066 196.20000000000667\n",
      " Writing /home/interactionlab/chrisb/modeling-pipeline/data/walkthrough/va_output/2/chunks/31.wav 196.47000000000668 197.67000000000672\n",
      "\n",
      "Labels include: \n",
      " ['speaking']\n"
     ]
    },
    {
     "data": {
      "application/json": {
       "ascii": false,
       "bar_format": null,
       "colour": null,
       "elapsed": 0.011240482330322266,
       "initial": 0,
       "n": 0,
       "ncols": null,
       "nrows": null,
       "postfix": null,
       "prefix": "Pandas Apply",
       "rate": null,
       "total": 5931,
       "unit": "it",
       "unit_divisor": 1000,
       "unit_scale": false
      },
      "application/vnd.jupyter.widget-view+json": {
       "model_id": "17f08e0a9f48407b8f44f2bafe2677ba",
       "version_major": 2,
       "version_minor": 0
      },
      "text/plain": [
       "Pandas Apply:   0%|          | 0/5931 [00:00<?, ?it/s]"
      ]
     },
     "metadata": {},
     "output_type": "display_data"
    },
    {
     "data": {
      "application/json": {
       "ascii": false,
       "bar_format": null,
       "colour": null,
       "elapsed": 0.010802745819091797,
       "initial": 0,
       "n": 0,
       "ncols": null,
       "nrows": null,
       "postfix": null,
       "prefix": "Pandas Apply",
       "rate": null,
       "total": 5931,
       "unit": "it",
       "unit_divisor": 1000,
       "unit_scale": false
      },
      "application/vnd.jupyter.widget-view+json": {
       "model_id": "f1b30ead0d8a4a08a300493e7362d7d3",
       "version_major": 2,
       "version_minor": 0
      },
      "text/plain": [
       "Pandas Apply:   0%|          | 0/5931 [00:00<?, ?it/s]"
      ]
     },
     "metadata": {},
     "output_type": "display_data"
    },
    {
     "name": "stdout",
     "output_type": "stream",
     "text": [
      "/home/interactionlab/chrisb/modeling-pipeline/data/walkthrough/audio/3/short_example.wav\n",
      " Writing /home/interactionlab/chrisb/modeling-pipeline/data/walkthrough/va_output/3/chunks/00.wav 0.4800000000000002 1.2000000000000008\n",
      " Writing /home/interactionlab/chrisb/modeling-pipeline/data/walkthrough/va_output/3/chunks/01.wav 3.149999999999994 3.8999999999999893\n",
      " Writing /home/interactionlab/chrisb/modeling-pipeline/data/walkthrough/va_output/3/chunks/02.wav 4.709999999999995 9.989999999999979\n",
      " Writing /home/interactionlab/chrisb/modeling-pipeline/data/walkthrough/va_output/3/chunks/03.wav 10.139999999999976 15.269999999999866\n",
      " Writing /home/interactionlab/chrisb/modeling-pipeline/data/walkthrough/va_output/3/chunks/04.wav 15.53999999999986 18.599999999999948\n",
      " Writing /home/interactionlab/chrisb/modeling-pipeline/data/walkthrough/va_output/3/chunks/05.wav 18.89999999999996 19.559999999999985\n",
      " Writing /home/interactionlab/chrisb/modeling-pipeline/data/walkthrough/va_output/3/chunks/06.wav 21.960000000000075 22.6500000000001\n",
      " Writing /home/interactionlab/chrisb/modeling-pipeline/data/walkthrough/va_output/3/chunks/07.wav 23.610000000000138 30.900000000000414\n",
      " Writing /home/interactionlab/chrisb/modeling-pipeline/data/walkthrough/va_output/3/chunks/08.wav 31.170000000000424 31.950000000000454\n",
      " Writing /home/interactionlab/chrisb/modeling-pipeline/data/walkthrough/va_output/3/chunks/09.wav 32.340000000000465 36.09000000000061\n",
      " Writing /home/interactionlab/chrisb/modeling-pipeline/data/walkthrough/va_output/3/chunks/10.wav 36.39000000000062 41.1600000000008\n",
      " Writing /home/interactionlab/chrisb/modeling-pipeline/data/walkthrough/va_output/3/chunks/11.wav 43.980000000000906 44.760000000000936\n",
      " Writing /home/interactionlab/chrisb/modeling-pipeline/data/walkthrough/va_output/3/chunks/12.wav 49.0500000000011 53.460000000001266\n",
      " Writing /home/interactionlab/chrisb/modeling-pipeline/data/walkthrough/va_output/3/chunks/13.wav 53.61000000000127 62.970000000001626\n",
      " Writing /home/interactionlab/chrisb/modeling-pipeline/data/walkthrough/va_output/3/chunks/14.wav 73.140000000002 89.0100000000026\n",
      " Writing /home/interactionlab/chrisb/modeling-pipeline/data/walkthrough/va_output/3/chunks/15.wav 91.5000000000027 92.88000000000275\n",
      " Writing /home/interactionlab/chrisb/modeling-pipeline/data/walkthrough/va_output/3/chunks/16.wav 95.82000000000286 103.50000000000315\n",
      " Writing /home/interactionlab/chrisb/modeling-pipeline/data/walkthrough/va_output/3/chunks/17.wav 103.56000000000316 112.7100000000035\n",
      " Writing /home/interactionlab/chrisb/modeling-pipeline/data/walkthrough/va_output/3/chunks/18.wav 112.7100000000035 113.85000000000355\n",
      " Writing /home/interactionlab/chrisb/modeling-pipeline/data/walkthrough/va_output/3/chunks/19.wav 114.18000000000356 115.47000000000361\n",
      " Writing /home/interactionlab/chrisb/modeling-pipeline/data/walkthrough/va_output/3/chunks/20.wav 115.98000000000363 117.24000000000368\n",
      " Writing /home/interactionlab/chrisb/modeling-pipeline/data/walkthrough/va_output/3/chunks/21.wav 117.57000000000369 120.5700000000038\n",
      " Writing /home/interactionlab/chrisb/modeling-pipeline/data/walkthrough/va_output/3/chunks/22.wav 120.6300000000038 121.29000000000383\n",
      " Writing /home/interactionlab/chrisb/modeling-pipeline/data/walkthrough/va_output/3/chunks/23.wav 121.89000000000385 129.66000000000415\n",
      " Writing /home/interactionlab/chrisb/modeling-pipeline/data/walkthrough/va_output/3/chunks/24.wav 131.3700000000042 132.24000000000424\n",
      " Writing /home/interactionlab/chrisb/modeling-pipeline/data/walkthrough/va_output/3/chunks/25.wav 141.4800000000046 147.2100000000048\n",
      " Writing /home/interactionlab/chrisb/modeling-pipeline/data/walkthrough/va_output/3/chunks/26.wav 147.2100000000048 149.7900000000049\n",
      " Writing /home/interactionlab/chrisb/modeling-pipeline/data/walkthrough/va_output/3/chunks/27.wav 150.15000000000492 154.02000000000507\n",
      " Writing /home/interactionlab/chrisb/modeling-pipeline/data/walkthrough/va_output/3/chunks/28.wav 160.68000000000532 167.19000000000557\n",
      " Writing /home/interactionlab/chrisb/modeling-pipeline/data/walkthrough/va_output/3/chunks/29.wav 167.8200000000056 171.51000000000573\n",
      " Writing /home/interactionlab/chrisb/modeling-pipeline/data/walkthrough/va_output/3/chunks/30.wav 171.78000000000574 174.87000000000586\n",
      " Writing /home/interactionlab/chrisb/modeling-pipeline/data/walkthrough/va_output/3/chunks/31.wav 175.11000000000587 176.46000000000592\n",
      " Writing /home/interactionlab/chrisb/modeling-pipeline/data/walkthrough/va_output/3/chunks/32.wav 178.14000000000598 181.71000000000612\n",
      " Writing /home/interactionlab/chrisb/modeling-pipeline/data/walkthrough/va_output/3/chunks/33.wav 182.13000000000613 187.26000000000633\n",
      " Writing /home/interactionlab/chrisb/modeling-pipeline/data/walkthrough/va_output/3/chunks/34.wav 197.67000000000672 203.19000000000693\n",
      " Writing /home/interactionlab/chrisb/modeling-pipeline/data/walkthrough/va_output/3/chunks/35.wav 204.03000000000696 204.900000000007\n",
      " Writing /home/interactionlab/chrisb/modeling-pipeline/data/walkthrough/va_output/3/chunks/36.wav 204.930000000007 205.80000000000703\n",
      " Writing /home/interactionlab/chrisb/modeling-pipeline/data/walkthrough/va_output/3/chunks/37.wav 205.92000000000704 210.90000000000722\n",
      " Writing /home/interactionlab/chrisb/modeling-pipeline/data/walkthrough/va_output/3/chunks/38.wav 212.01000000000727 217.29000000000747\n",
      " Writing /home/interactionlab/chrisb/modeling-pipeline/data/walkthrough/va_output/3/chunks/39.wav 218.3700000000075 222.78000000000767\n",
      "\n",
      "Labels include: \n",
      " ['speaking']\n"
     ]
    },
    {
     "data": {
      "application/json": {
       "ascii": false,
       "bar_format": null,
       "colour": null,
       "elapsed": 0.011066436767578125,
       "initial": 0,
       "n": 0,
       "ncols": null,
       "nrows": null,
       "postfix": null,
       "prefix": "Pandas Apply",
       "rate": null,
       "total": 6684,
       "unit": "it",
       "unit_divisor": 1000,
       "unit_scale": false
      },
      "application/vnd.jupyter.widget-view+json": {
       "model_id": "e5a4ffbaf503495680191b8d2027e7e5",
       "version_major": 2,
       "version_minor": 0
      },
      "text/plain": [
       "Pandas Apply:   0%|          | 0/6684 [00:00<?, ?it/s]"
      ]
     },
     "metadata": {},
     "output_type": "display_data"
    },
    {
     "data": {
      "application/json": {
       "ascii": false,
       "bar_format": null,
       "colour": null,
       "elapsed": 0.010895490646362305,
       "initial": 0,
       "n": 0,
       "ncols": null,
       "nrows": null,
       "postfix": null,
       "prefix": "Pandas Apply",
       "rate": null,
       "total": 6684,
       "unit": "it",
       "unit_divisor": 1000,
       "unit_scale": false
      },
      "application/vnd.jupyter.widget-view+json": {
       "model_id": "abc6b97af27a439592d470c4c431721d",
       "version_major": 2,
       "version_minor": 0
      },
      "text/plain": [
       "Pandas Apply:   0%|          | 0/6684 [00:00<?, ?it/s]"
      ]
     },
     "metadata": {},
     "output_type": "display_data"
    },
    {
     "name": "stdout",
     "output_type": "stream",
     "text": [
      "/home/interactionlab/chrisb/modeling-pipeline/data/walkthrough/audio/4/short_example.wav\n",
      " Writing /home/interactionlab/chrisb/modeling-pipeline/data/walkthrough/va_output/4/chunks/00.wav 10.619999999999965 12.329999999999929\n",
      " Writing /home/interactionlab/chrisb/modeling-pipeline/data/walkthrough/va_output/4/chunks/01.wav 17.3099999999999 25.02000000000019\n",
      " Writing /home/interactionlab/chrisb/modeling-pipeline/data/walkthrough/va_output/4/chunks/02.wav 26.430000000000245 27.150000000000272\n",
      " Writing /home/interactionlab/chrisb/modeling-pipeline/data/walkthrough/va_output/4/chunks/03.wav 27.9300000000003 31.740000000000446\n",
      " Writing /home/interactionlab/chrisb/modeling-pipeline/data/walkthrough/va_output/4/chunks/04.wav 32.22000000000046 33.360000000000504\n",
      " Writing /home/interactionlab/chrisb/modeling-pipeline/data/walkthrough/va_output/4/chunks/05.wav 33.900000000000524 40.770000000000785\n",
      " Writing /home/interactionlab/chrisb/modeling-pipeline/data/walkthrough/va_output/4/chunks/06.wav 42.54000000000085 48.00000000000106\n",
      " Writing /home/interactionlab/chrisb/modeling-pipeline/data/walkthrough/va_output/4/chunks/07.wav 50.310000000001146 51.12000000000118\n",
      " Writing /home/interactionlab/chrisb/modeling-pipeline/data/walkthrough/va_output/4/chunks/08.wav 52.23000000000122 55.47000000000134\n",
      " Writing /home/interactionlab/chrisb/modeling-pipeline/data/walkthrough/va_output/4/chunks/09.wav 55.62000000000135 61.110000000001556\n",
      " Writing /home/interactionlab/chrisb/modeling-pipeline/data/walkthrough/va_output/4/chunks/10.wav 62.76000000000162 64.14000000000166\n",
      " Writing /home/interactionlab/chrisb/modeling-pipeline/data/walkthrough/va_output/4/chunks/11.wav 65.91000000000173 67.5900000000018\n",
      " Writing /home/interactionlab/chrisb/modeling-pipeline/data/walkthrough/va_output/4/chunks/12.wav 67.8000000000018 73.32000000000201\n",
      " Writing /home/interactionlab/chrisb/modeling-pipeline/data/walkthrough/va_output/4/chunks/13.wav 73.47000000000202 81.27000000000231\n",
      " Writing /home/interactionlab/chrisb/modeling-pipeline/data/walkthrough/va_output/4/chunks/14.wav 85.26000000000246 88.8600000000026\n",
      " Writing /home/interactionlab/chrisb/modeling-pipeline/data/walkthrough/va_output/4/chunks/15.wav 90.63000000000267 95.01000000000283\n",
      " Writing /home/interactionlab/chrisb/modeling-pipeline/data/walkthrough/va_output/4/chunks/16.wav 95.37000000000285 100.35000000000304\n",
      " Writing /home/interactionlab/chrisb/modeling-pipeline/data/walkthrough/va_output/4/chunks/17.wav 105.48000000000323 108.15000000000333\n",
      " Writing /home/interactionlab/chrisb/modeling-pipeline/data/walkthrough/va_output/4/chunks/18.wav 108.78000000000335 114.60000000000358\n",
      " Writing /home/interactionlab/chrisb/modeling-pipeline/data/walkthrough/va_output/4/chunks/19.wav 115.1400000000036 116.85000000000366\n",
      " Writing /home/interactionlab/chrisb/modeling-pipeline/data/walkthrough/va_output/4/chunks/20.wav 116.88000000000366 126.39000000000402\n",
      " Writing /home/interactionlab/chrisb/modeling-pipeline/data/walkthrough/va_output/4/chunks/21.wav 149.7600000000049 154.32000000000508\n",
      " Writing /home/interactionlab/chrisb/modeling-pipeline/data/walkthrough/va_output/4/chunks/22.wav 154.35000000000508 157.2900000000052\n",
      " Writing /home/interactionlab/chrisb/modeling-pipeline/data/walkthrough/va_output/4/chunks/23.wav 157.3200000000052 159.09000000000526\n",
      " Writing /home/interactionlab/chrisb/modeling-pipeline/data/walkthrough/va_output/4/chunks/24.wav 159.33000000000527 164.88000000000548\n",
      " Writing /home/interactionlab/chrisb/modeling-pipeline/data/walkthrough/va_output/4/chunks/25.wav 165.0300000000055 172.65000000000578\n",
      " Writing /home/interactionlab/chrisb/modeling-pipeline/data/walkthrough/va_output/4/chunks/26.wav 172.86000000000578 176.1600000000059\n",
      " Writing /home/interactionlab/chrisb/modeling-pipeline/data/walkthrough/va_output/4/chunks/27.wav 177.81000000000597 182.43000000000615\n",
      " Writing /home/interactionlab/chrisb/modeling-pipeline/data/walkthrough/va_output/4/chunks/28.wav 183.03000000000617 186.06000000000628\n",
      "\n",
      "Labels include: \n",
      " ['speaking']\n"
     ]
    },
    {
     "data": {
      "application/json": {
       "ascii": false,
       "bar_format": null,
       "colour": null,
       "elapsed": 0.01102304458618164,
       "initial": 0,
       "n": 0,
       "ncols": null,
       "nrows": null,
       "postfix": null,
       "prefix": "Pandas Apply",
       "rate": null,
       "total": 5582,
       "unit": "it",
       "unit_divisor": 1000,
       "unit_scale": false
      },
      "application/vnd.jupyter.widget-view+json": {
       "model_id": "aab3a41bb43849babcef50bec2ee5c5c",
       "version_major": 2,
       "version_minor": 0
      },
      "text/plain": [
       "Pandas Apply:   0%|          | 0/5582 [00:00<?, ?it/s]"
      ]
     },
     "metadata": {},
     "output_type": "display_data"
    },
    {
     "data": {
      "application/json": {
       "ascii": false,
       "bar_format": null,
       "colour": null,
       "elapsed": 0.01088571548461914,
       "initial": 0,
       "n": 0,
       "ncols": null,
       "nrows": null,
       "postfix": null,
       "prefix": "Pandas Apply",
       "rate": null,
       "total": 5582,
       "unit": "it",
       "unit_divisor": 1000,
       "unit_scale": false
      },
      "application/vnd.jupyter.widget-view+json": {
       "model_id": "b675aa8a496c4c7e8b32a4edd27291f4",
       "version_major": 2,
       "version_minor": 0
      },
      "text/plain": [
       "Pandas Apply:   0%|          | 0/5582 [00:00<?, ?it/s]"
      ]
     },
     "metadata": {},
     "output_type": "display_data"
    },
    {
     "name": "stdout",
     "output_type": "stream",
     "text": [
      "/home/interactionlab/chrisb/modeling-pipeline/data/walkthrough/audio/5/short_example.wav\n",
      " Writing /home/interactionlab/chrisb/modeling-pipeline/data/walkthrough/va_output/5/chunks/00.wav 0.42000000000000015 2.0400000000000014\n",
      " Writing /home/interactionlab/chrisb/modeling-pipeline/data/walkthrough/va_output/5/chunks/01.wav 2.100000000000001 3.2699999999999934\n",
      " Writing /home/interactionlab/chrisb/modeling-pipeline/data/walkthrough/va_output/5/chunks/02.wav 3.659999999999991 6.900000000000013\n",
      " Writing /home/interactionlab/chrisb/modeling-pipeline/data/walkthrough/va_output/5/chunks/03.wav 6.960000000000013 9.149999999999997\n",
      " Writing /home/interactionlab/chrisb/modeling-pipeline/data/walkthrough/va_output/5/chunks/04.wav 20.340000000000014 27.720000000000294\n",
      " Writing /home/interactionlab/chrisb/modeling-pipeline/data/walkthrough/va_output/5/chunks/05.wav 28.620000000000328 29.49000000000036\n",
      "\n",
      "Labels include: \n",
      " ['speaking']\n"
     ]
    },
    {
     "data": {
      "application/json": {
       "ascii": false,
       "bar_format": null,
       "colour": null,
       "elapsed": 0.010850667953491211,
       "initial": 0,
       "n": 0,
       "ncols": null,
       "nrows": null,
       "postfix": null,
       "prefix": "Pandas Apply",
       "rate": null,
       "total": 885,
       "unit": "it",
       "unit_divisor": 1000,
       "unit_scale": false
      },
      "application/vnd.jupyter.widget-view+json": {
       "model_id": "3a6d89aa29e04cb4b98608567e798d5e",
       "version_major": 2,
       "version_minor": 0
      },
      "text/plain": [
       "Pandas Apply:   0%|          | 0/885 [00:00<?, ?it/s]"
      ]
     },
     "metadata": {},
     "output_type": "display_data"
    },
    {
     "data": {
      "application/json": {
       "ascii": false,
       "bar_format": null,
       "colour": null,
       "elapsed": 0.010905027389526367,
       "initial": 0,
       "n": 0,
       "ncols": null,
       "nrows": null,
       "postfix": null,
       "prefix": "Pandas Apply",
       "rate": null,
       "total": 885,
       "unit": "it",
       "unit_divisor": 1000,
       "unit_scale": false
      },
      "application/vnd.jupyter.widget-view+json": {
       "model_id": "f5e955a547914601a166ffbe93b30842",
       "version_major": 2,
       "version_minor": 0
      },
      "text/plain": [
       "Pandas Apply:   0%|          | 0/885 [00:00<?, ?it/s]"
      ]
     },
     "metadata": {},
     "output_type": "display_data"
    },
    {
     "name": "stdout",
     "output_type": "stream",
     "text": [
      "/home/interactionlab/chrisb/modeling-pipeline/data/walkthrough/audio/6/short_example.wav\n",
      " Writing /home/interactionlab/chrisb/modeling-pipeline/data/walkthrough/va_output/6/chunks/00.wav 0.42000000000000015 2.0400000000000014\n",
      " Writing /home/interactionlab/chrisb/modeling-pipeline/data/walkthrough/va_output/6/chunks/01.wav 2.100000000000001 3.2699999999999934\n",
      " Writing /home/interactionlab/chrisb/modeling-pipeline/data/walkthrough/va_output/6/chunks/02.wav 3.659999999999991 6.900000000000013\n",
      " Writing /home/interactionlab/chrisb/modeling-pipeline/data/walkthrough/va_output/6/chunks/03.wav 6.960000000000013 9.149999999999997\n",
      " Writing /home/interactionlab/chrisb/modeling-pipeline/data/walkthrough/va_output/6/chunks/04.wav 20.340000000000014 27.720000000000294\n",
      " Writing /home/interactionlab/chrisb/modeling-pipeline/data/walkthrough/va_output/6/chunks/05.wav 28.620000000000328 29.49000000000036\n",
      "\n",
      "Labels include: \n",
      " ['speaking']\n"
     ]
    },
    {
     "data": {
      "application/json": {
       "ascii": false,
       "bar_format": null,
       "colour": null,
       "elapsed": 0.010956287384033203,
       "initial": 0,
       "n": 0,
       "ncols": null,
       "nrows": null,
       "postfix": null,
       "prefix": "Pandas Apply",
       "rate": null,
       "total": 885,
       "unit": "it",
       "unit_divisor": 1000,
       "unit_scale": false
      },
      "application/vnd.jupyter.widget-view+json": {
       "model_id": "d5ac2a3c874046e98375ffdbbaa7ffc1",
       "version_major": 2,
       "version_minor": 0
      },
      "text/plain": [
       "Pandas Apply:   0%|          | 0/885 [00:00<?, ?it/s]"
      ]
     },
     "metadata": {},
     "output_type": "display_data"
    },
    {
     "data": {
      "application/json": {
       "ascii": false,
       "bar_format": null,
       "colour": null,
       "elapsed": 0.010820865631103516,
       "initial": 0,
       "n": 0,
       "ncols": null,
       "nrows": null,
       "postfix": null,
       "prefix": "Pandas Apply",
       "rate": null,
       "total": 885,
       "unit": "it",
       "unit_divisor": 1000,
       "unit_scale": false
      },
      "application/vnd.jupyter.widget-view+json": {
       "model_id": "96d1cdff3184403799f9d5e2499fea0d",
       "version_major": 2,
       "version_minor": 0
      },
      "text/plain": [
       "Pandas Apply:   0%|          | 0/885 [00:00<?, ?it/s]"
      ]
     },
     "metadata": {},
     "output_type": "display_data"
    },
    {
     "name": "stdout",
     "output_type": "stream",
     "text": [
      "/home/interactionlab/chrisb/modeling-pipeline/data/walkthrough/audio/7/short_example.wav\n",
      " Writing /home/interactionlab/chrisb/modeling-pipeline/data/walkthrough/va_output/7/chunks/00.wav 1.5600000000000012 8.730000000000006\n",
      " Writing /home/interactionlab/chrisb/modeling-pipeline/data/walkthrough/va_output/7/chunks/01.wav 8.97 29.76000000000037\n",
      " Writing /home/interactionlab/chrisb/modeling-pipeline/data/walkthrough/va_output/7/chunks/02.wav 41.37000000000081 65.52000000000172\n",
      " Writing /home/interactionlab/chrisb/modeling-pipeline/data/walkthrough/va_output/7/chunks/03.wav 65.85000000000173 69.96000000000188\n",
      " Writing /home/interactionlab/chrisb/modeling-pipeline/data/walkthrough/va_output/7/chunks/04.wav 80.7600000000023 102.57000000000312\n",
      " Writing /home/interactionlab/chrisb/modeling-pipeline/data/walkthrough/va_output/7/chunks/05.wav 102.63000000000312 119.07000000000374\n",
      " Writing /home/interactionlab/chrisb/modeling-pipeline/data/walkthrough/va_output/7/chunks/06.wav 130.35000000000417 136.4700000000044\n",
      " Writing /home/interactionlab/chrisb/modeling-pipeline/data/walkthrough/va_output/7/chunks/07.wav 136.4700000000044 149.7000000000049\n",
      " Writing /home/interactionlab/chrisb/modeling-pipeline/data/walkthrough/va_output/7/chunks/08.wav 161.01000000000533 169.50000000000566\n",
      "\n",
      " Writing /home/interactionlab/chrisb/modeling-pipeline/data/walkthrough/va_output/7/chunks/09.wav 186.6300000000063 186.6600000000063\n",
      "Labels include: \n",
      " ['speaking']\n"
     ]
    },
    {
     "data": {
      "application/json": {
       "ascii": false,
       "bar_format": null,
       "colour": null,
       "elapsed": 0.0111236572265625,
       "initial": 0,
       "n": 0,
       "ncols": null,
       "nrows": null,
       "postfix": null,
       "prefix": "Pandas Apply",
       "rate": null,
       "total": 5600,
       "unit": "it",
       "unit_divisor": 1000,
       "unit_scale": false
      },
      "application/vnd.jupyter.widget-view+json": {
       "model_id": "09a3b0707db5497fa7de5abcd52cb6df",
       "version_major": 2,
       "version_minor": 0
      },
      "text/plain": [
       "Pandas Apply:   0%|          | 0/5600 [00:00<?, ?it/s]"
      ]
     },
     "metadata": {},
     "output_type": "display_data"
    },
    {
     "data": {
      "application/json": {
       "ascii": false,
       "bar_format": null,
       "colour": null,
       "elapsed": 0.011017322540283203,
       "initial": 0,
       "n": 0,
       "ncols": null,
       "nrows": null,
       "postfix": null,
       "prefix": "Pandas Apply",
       "rate": null,
       "total": 5600,
       "unit": "it",
       "unit_divisor": 1000,
       "unit_scale": false
      },
      "application/vnd.jupyter.widget-view+json": {
       "model_id": "2e2e72d6411c48b7a462350214581611",
       "version_major": 2,
       "version_minor": 0
      },
      "text/plain": [
       "Pandas Apply:   0%|          | 0/5600 [00:00<?, ?it/s]"
      ]
     },
     "metadata": {},
     "output_type": "display_data"
    },
    {
     "name": "stdout",
     "output_type": "stream",
     "text": [
      "/home/interactionlab/chrisb/modeling-pipeline/data/walkthrough/audio/8/short_example.wav\n",
      " Writing /home/interactionlab/chrisb/modeling-pipeline/data/walkthrough/va_output/8/chunks/00.wav 1.470000000000001 5.189999999999999\n",
      " Writing /home/interactionlab/chrisb/modeling-pipeline/data/walkthrough/va_output/8/chunks/01.wav 5.249999999999999 6.690000000000011\n",
      " Writing /home/interactionlab/chrisb/modeling-pipeline/data/walkthrough/va_output/8/chunks/02.wav 6.840000000000012 9.659999999999986\n",
      " Writing /home/interactionlab/chrisb/modeling-pipeline/data/walkthrough/va_output/8/chunks/03.wav 9.89999999999998 18.11999999999993\n",
      " Writing /home/interactionlab/chrisb/modeling-pipeline/data/walkthrough/va_output/8/chunks/04.wav 33.51000000000051 49.0800000000011\n",
      " Writing /home/interactionlab/chrisb/modeling-pipeline/data/walkthrough/va_output/8/chunks/05.wav 49.1400000000011 62.49000000000161\n",
      " Writing /home/interactionlab/chrisb/modeling-pipeline/data/walkthrough/va_output/8/chunks/06.wav 79.62000000000225 84.00000000000242\n",
      " Writing /home/interactionlab/chrisb/modeling-pipeline/data/walkthrough/va_output/8/chunks/07.wav 84.03000000000242 89.52000000000263\n",
      " Writing /home/interactionlab/chrisb/modeling-pipeline/data/walkthrough/va_output/8/chunks/08.wav 89.79000000000264 94.1700000000028\n",
      " Writing /home/interactionlab/chrisb/modeling-pipeline/data/walkthrough/va_output/8/chunks/09.wav 94.38000000000281 105.57000000000323\n",
      " Writing /home/interactionlab/chrisb/modeling-pipeline/data/walkthrough/va_output/8/chunks/10.wav 125.58000000000399 127.71000000000407\n",
      " Writing /home/interactionlab/chrisb/modeling-pipeline/data/walkthrough/va_output/8/chunks/11.wav 127.74000000000407 129.99000000000416\n",
      " Writing /home/interactionlab/chrisb/modeling-pipeline/data/walkthrough/va_output/8/chunks/12.wav 130.20000000000417 139.62000000000452\n",
      " Writing /home/interactionlab/chrisb/modeling-pipeline/data/walkthrough/va_output/8/chunks/13.wav 139.92000000000453 144.2100000000047\n",
      " Writing /home/interactionlab/chrisb/modeling-pipeline/data/walkthrough/va_output/8/chunks/14.wav 144.3900000000047 147.30000000000481\n",
      " Writing /home/interactionlab/chrisb/modeling-pipeline/data/walkthrough/va_output/8/chunks/15.wav 166.53000000000554 170.01000000000568\n",
      " Writing /home/interactionlab/chrisb/modeling-pipeline/data/walkthrough/va_output/8/chunks/16.wav 170.19000000000568 171.96000000000575\n",
      "\n",
      "Labels include: \n",
      " ['speaking']\n"
     ]
    },
    {
     "data": {
      "application/json": {
       "ascii": false,
       "bar_format": null,
       "colour": null,
       "elapsed": 0.011113405227661133,
       "initial": 0,
       "n": 0,
       "ncols": null,
       "nrows": null,
       "postfix": null,
       "prefix": "Pandas Apply",
       "rate": null,
       "total": 5159,
       "unit": "it",
       "unit_divisor": 1000,
       "unit_scale": false
      },
      "application/vnd.jupyter.widget-view+json": {
       "model_id": "74c1fb7ad6f94d98a03a7d252628caa6",
       "version_major": 2,
       "version_minor": 0
      },
      "text/plain": [
       "Pandas Apply:   0%|          | 0/5159 [00:00<?, ?it/s]"
      ]
     },
     "metadata": {},
     "output_type": "display_data"
    },
    {
     "data": {
      "application/json": {
       "ascii": false,
       "bar_format": null,
       "colour": null,
       "elapsed": 0.010930776596069336,
       "initial": 0,
       "n": 0,
       "ncols": null,
       "nrows": null,
       "postfix": null,
       "prefix": "Pandas Apply",
       "rate": null,
       "total": 5159,
       "unit": "it",
       "unit_divisor": 1000,
       "unit_scale": false
      },
      "application/vnd.jupyter.widget-view+json": {
       "model_id": "7156947798d042ea9820fdff7092587b",
       "version_major": 2,
       "version_minor": 0
      },
      "text/plain": [
       "Pandas Apply:   0%|          | 0/5159 [00:00<?, ?it/s]"
      ]
     },
     "metadata": {},
     "output_type": "display_data"
    },
    {
     "name": "stdout",
     "output_type": "stream",
     "text": [
      "/home/interactionlab/chrisb/modeling-pipeline/data/walkthrough/audio/9/short_example.wav\n",
      " Writing /home/interactionlab/chrisb/modeling-pipeline/data/walkthrough/va_output/9/chunks/00.wav 2.0400000000000014 5.37\n",
      " Writing /home/interactionlab/chrisb/modeling-pipeline/data/walkthrough/va_output/9/chunks/01.wav 5.670000000000003 14.699999999999878\n",
      " Writing /home/interactionlab/chrisb/modeling-pipeline/data/walkthrough/va_output/9/chunks/02.wav 25.140000000000196 34.02000000000053\n",
      " Writing /home/interactionlab/chrisb/modeling-pipeline/data/walkthrough/va_output/9/chunks/03.wav 43.08000000000087 48.63000000000108\n",
      " Writing /home/interactionlab/chrisb/modeling-pipeline/data/walkthrough/va_output/9/chunks/04.wav 48.90000000000109 51.03000000000117\n",
      " Writing /home/interactionlab/chrisb/modeling-pipeline/data/walkthrough/va_output/9/chunks/05.wav 62.130000000001594 72.66000000000199\n",
      " Writing /home/interactionlab/chrisb/modeling-pipeline/data/walkthrough/va_output/9/chunks/06.wav 72.870000000002 77.55000000000217\n",
      " Writing /home/interactionlab/chrisb/modeling-pipeline/data/walkthrough/va_output/9/chunks/07.wav 91.23000000000269 99.93000000000302\n",
      " Writing /home/interactionlab/chrisb/modeling-pipeline/data/walkthrough/va_output/9/chunks/08.wav 100.17000000000303 103.59000000000316\n",
      " Writing /home/interactionlab/chrisb/modeling-pipeline/data/walkthrough/va_output/9/chunks/09.wav 103.68000000000316 106.95000000000329\n",
      " Writing /home/interactionlab/chrisb/modeling-pipeline/data/walkthrough/va_output/9/chunks/10.wav 115.59000000000361 133.4400000000043\n",
      " Writing /home/interactionlab/chrisb/modeling-pipeline/data/walkthrough/va_output/9/chunks/11.wav 142.74000000000464 152.61000000000502\n",
      " Writing /home/interactionlab/chrisb/modeling-pipeline/data/walkthrough/va_output/9/chunks/12.wav 163.62000000000543 168.72000000000563\n",
      "\n",
      "Labels include: \n",
      " ['speaking']\n"
     ]
    },
    {
     "data": {
      "application/json": {
       "ascii": false,
       "bar_format": null,
       "colour": null,
       "elapsed": 0.010862350463867188,
       "initial": 0,
       "n": 0,
       "ncols": null,
       "nrows": null,
       "postfix": null,
       "prefix": "Pandas Apply",
       "rate": null,
       "total": 5062,
       "unit": "it",
       "unit_divisor": 1000,
       "unit_scale": false
      },
      "application/vnd.jupyter.widget-view+json": {
       "model_id": "b4cd42fbbb4e4498903fafacf3502326",
       "version_major": 2,
       "version_minor": 0
      },
      "text/plain": [
       "Pandas Apply:   0%|          | 0/5062 [00:00<?, ?it/s]"
      ]
     },
     "metadata": {},
     "output_type": "display_data"
    },
    {
     "data": {
      "application/json": {
       "ascii": false,
       "bar_format": null,
       "colour": null,
       "elapsed": 0.010914325714111328,
       "initial": 0,
       "n": 0,
       "ncols": null,
       "nrows": null,
       "postfix": null,
       "prefix": "Pandas Apply",
       "rate": null,
       "total": 5062,
       "unit": "it",
       "unit_divisor": 1000,
       "unit_scale": false
      },
      "application/vnd.jupyter.widget-view+json": {
       "model_id": "c2004742a2af41da8683bb9823d6fc00",
       "version_major": 2,
       "version_minor": 0
      },
      "text/plain": [
       "Pandas Apply:   0%|          | 0/5062 [00:00<?, ?it/s]"
      ]
     },
     "metadata": {},
     "output_type": "display_data"
    },
    {
     "name": "stdout",
     "output_type": "stream",
     "text": [
      "/home/interactionlab/chrisb/modeling-pipeline/data/walkthrough/audio/10/short_example.wav\n",
      " Writing /home/interactionlab/chrisb/modeling-pipeline/data/walkthrough/va_output/10/chunks/00.wav 0.42000000000000015 2.0400000000000014\n",
      " Writing /home/interactionlab/chrisb/modeling-pipeline/data/walkthrough/va_output/10/chunks/01.wav 2.100000000000001 3.2699999999999934\n",
      " Writing /home/interactionlab/chrisb/modeling-pipeline/data/walkthrough/va_output/10/chunks/02.wav 3.659999999999991 6.900000000000013\n",
      " Writing /home/interactionlab/chrisb/modeling-pipeline/data/walkthrough/va_output/10/chunks/03.wav 6.960000000000013 9.149999999999997\n",
      " Writing /home/interactionlab/chrisb/modeling-pipeline/data/walkthrough/va_output/10/chunks/04.wav 20.340000000000014 27.720000000000294\n",
      " Writing /home/interactionlab/chrisb/modeling-pipeline/data/walkthrough/va_output/10/chunks/05.wav 28.620000000000328 29.49000000000036\n",
      "\n",
      "Labels include: \n",
      " ['speaking']\n"
     ]
    },
    {
     "data": {
      "application/json": {
       "ascii": false,
       "bar_format": null,
       "colour": null,
       "elapsed": 0.011094093322753906,
       "initial": 0,
       "n": 0,
       "ncols": null,
       "nrows": null,
       "postfix": null,
       "prefix": "Pandas Apply",
       "rate": null,
       "total": 885,
       "unit": "it",
       "unit_divisor": 1000,
       "unit_scale": false
      },
      "application/vnd.jupyter.widget-view+json": {
       "model_id": "5c841e6995ba4e1dadba885ef2ca210a",
       "version_major": 2,
       "version_minor": 0
      },
      "text/plain": [
       "Pandas Apply:   0%|          | 0/885 [00:00<?, ?it/s]"
      ]
     },
     "metadata": {},
     "output_type": "display_data"
    },
    {
     "data": {
      "application/json": {
       "ascii": false,
       "bar_format": null,
       "colour": null,
       "elapsed": 0.010737895965576172,
       "initial": 0,
       "n": 0,
       "ncols": null,
       "nrows": null,
       "postfix": null,
       "prefix": "Pandas Apply",
       "rate": null,
       "total": 885,
       "unit": "it",
       "unit_divisor": 1000,
       "unit_scale": false
      },
      "application/vnd.jupyter.widget-view+json": {
       "model_id": "62f580e5ad6a4171a5ade70cd4e68fb6",
       "version_major": 2,
       "version_minor": 0
      },
      "text/plain": [
       "Pandas Apply:   0%|          | 0/885 [00:00<?, ?it/s]"
      ]
     },
     "metadata": {},
     "output_type": "display_data"
    },
    {
     "name": "stdout",
     "output_type": "stream",
     "text": [
      "/home/interactionlab/chrisb/modeling-pipeline/data/walkthrough/audio/11/short_example.wav\n",
      " Writing /home/interactionlab/chrisb/modeling-pipeline/data/walkthrough/va_output/11/chunks/00.wav 3.3899999999999926 6.120000000000006\n",
      " Writing /home/interactionlab/chrisb/modeling-pipeline/data/walkthrough/va_output/11/chunks/01.wav 6.210000000000007 15.269999999999866\n",
      " Writing /home/interactionlab/chrisb/modeling-pipeline/data/walkthrough/va_output/11/chunks/02.wav 15.719999999999857 19.67999999999999\n",
      " Writing /home/interactionlab/chrisb/modeling-pipeline/data/walkthrough/va_output/11/chunks/03.wav 19.67999999999999 22.6500000000001\n",
      " Writing /home/interactionlab/chrisb/modeling-pipeline/data/walkthrough/va_output/11/chunks/04.wav 23.040000000000116 28.080000000000307\n",
      " Writing /home/interactionlab/chrisb/modeling-pipeline/data/walkthrough/va_output/11/chunks/05.wav 28.080000000000307 43.29000000000088\n",
      " Writing /home/interactionlab/chrisb/modeling-pipeline/data/walkthrough/va_output/11/chunks/06.wav 45.780000000000975 49.230000000001105\n",
      " Writing /home/interactionlab/chrisb/modeling-pipeline/data/walkthrough/va_output/11/chunks/07.wav 49.35000000000111 67.47000000000179\n",
      " Writing /home/interactionlab/chrisb/modeling-pipeline/data/walkthrough/va_output/11/chunks/08.wav 69.24000000000186 75.6900000000021\n",
      " Writing /home/interactionlab/chrisb/modeling-pipeline/data/walkthrough/va_output/11/chunks/09.wav 77.19000000000216 85.47000000000247\n",
      " Writing /home/interactionlab/chrisb/modeling-pipeline/data/walkthrough/va_output/11/chunks/10.wav 86.97000000000253 87.96000000000257\n",
      " Writing /home/interactionlab/chrisb/modeling-pipeline/data/walkthrough/va_output/11/chunks/11.wav 90.24000000000265 104.5200000000032\n",
      " Writing /home/interactionlab/chrisb/modeling-pipeline/data/walkthrough/va_output/11/chunks/12.wav 104.5800000000032 105.72000000000324\n",
      " Writing /home/interactionlab/chrisb/modeling-pipeline/data/walkthrough/va_output/11/chunks/13.wav 106.95000000000329 110.67000000000343\n",
      " Writing /home/interactionlab/chrisb/modeling-pipeline/data/walkthrough/va_output/11/chunks/14.wav 112.4700000000035 123.72000000000392\n",
      " Writing /home/interactionlab/chrisb/modeling-pipeline/data/walkthrough/va_output/11/chunks/15.wav 126.00000000000401 131.0400000000042\n",
      " Writing /home/interactionlab/chrisb/modeling-pipeline/data/walkthrough/va_output/11/chunks/16.wav 132.03000000000424 133.3500000000043\n",
      " Writing /home/interactionlab/chrisb/modeling-pipeline/data/walkthrough/va_output/11/chunks/17.wav 134.49000000000433 136.86000000000442\n",
      " Writing /home/interactionlab/chrisb/modeling-pipeline/data/walkthrough/va_output/11/chunks/18.wav 137.28000000000443 138.39000000000448\n",
      " Writing /home/interactionlab/chrisb/modeling-pipeline/data/walkthrough/va_output/11/chunks/19.wav 138.8100000000045 149.13000000000488\n",
      "\n",
      "Labels include: \n",
      " ['speaking']\n"
     ]
    },
    {
     "data": {
      "application/json": {
       "ascii": false,
       "bar_format": null,
       "colour": null,
       "elapsed": 0.01096963882446289,
       "initial": 0,
       "n": 0,
       "ncols": null,
       "nrows": null,
       "postfix": null,
       "prefix": "Pandas Apply",
       "rate": null,
       "total": 4474,
       "unit": "it",
       "unit_divisor": 1000,
       "unit_scale": false
      },
      "application/vnd.jupyter.widget-view+json": {
       "model_id": "b050cdb5bed94b8eab701438f1e0363d",
       "version_major": 2,
       "version_minor": 0
      },
      "text/plain": [
       "Pandas Apply:   0%|          | 0/4474 [00:00<?, ?it/s]"
      ]
     },
     "metadata": {},
     "output_type": "display_data"
    },
    {
     "data": {
      "application/json": {
       "ascii": false,
       "bar_format": null,
       "colour": null,
       "elapsed": 0.01088571548461914,
       "initial": 0,
       "n": 0,
       "ncols": null,
       "nrows": null,
       "postfix": null,
       "prefix": "Pandas Apply",
       "rate": null,
       "total": 4474,
       "unit": "it",
       "unit_divisor": 1000,
       "unit_scale": false
      },
      "application/vnd.jupyter.widget-view+json": {
       "model_id": "7518c3586222448293d4b3487c69fb93",
       "version_major": 2,
       "version_minor": 0
      },
      "text/plain": [
       "Pandas Apply:   0%|          | 0/4474 [00:00<?, ?it/s]"
      ]
     },
     "metadata": {},
     "output_type": "display_data"
    },
    {
     "name": "stdout",
     "output_type": "stream",
     "text": [
      "/home/interactionlab/chrisb/modeling-pipeline/data/walkthrough/audio/12/short_example.wav\n",
      " Writing /home/interactionlab/chrisb/modeling-pipeline/data/walkthrough/va_output/12/chunks/00.wav 1.7700000000000014 10.259999999999973\n",
      " Writing /home/interactionlab/chrisb/modeling-pipeline/data/walkthrough/va_output/12/chunks/01.wav 10.469999999999969 14.999999999999872\n",
      " Writing /home/interactionlab/chrisb/modeling-pipeline/data/walkthrough/va_output/12/chunks/02.wav 15.029999999999871 16.25999999999986\n",
      " Writing /home/interactionlab/chrisb/modeling-pipeline/data/walkthrough/va_output/12/chunks/03.wav 16.76999999999988 27.030000000000268\n",
      " Writing /home/interactionlab/chrisb/modeling-pipeline/data/walkthrough/va_output/12/chunks/04.wav 28.14000000000031 39.84000000000075\n",
      " Writing /home/interactionlab/chrisb/modeling-pipeline/data/walkthrough/va_output/12/chunks/05.wav 42.330000000000844 53.10000000000125\n",
      " Writing /home/interactionlab/chrisb/modeling-pipeline/data/walkthrough/va_output/12/chunks/06.wav 54.000000000001286 67.35000000000178\n",
      " Writing /home/interactionlab/chrisb/modeling-pipeline/data/walkthrough/va_output/12/chunks/07.wav 67.7100000000018 70.95000000000192\n",
      " Writing /home/interactionlab/chrisb/modeling-pipeline/data/walkthrough/va_output/12/chunks/08.wav 70.98000000000192 77.19000000000216\n",
      " Writing /home/interactionlab/chrisb/modeling-pipeline/data/walkthrough/va_output/12/chunks/09.wav 78.72000000000222 79.92000000000226\n",
      " Writing /home/interactionlab/chrisb/modeling-pipeline/data/walkthrough/va_output/12/chunks/10.wav 80.34000000000228 90.96000000000268\n",
      " Writing /home/interactionlab/chrisb/modeling-pipeline/data/walkthrough/va_output/12/chunks/11.wav 91.3200000000027 98.07000000000295\n",
      " Writing /home/interactionlab/chrisb/modeling-pipeline/data/walkthrough/va_output/12/chunks/12.wav 98.70000000000297 109.9500000000034\n",
      " Writing /home/interactionlab/chrisb/modeling-pipeline/data/walkthrough/va_output/12/chunks/13.wav 111.30000000000345 126.45000000000402\n",
      " Writing /home/interactionlab/chrisb/modeling-pipeline/data/walkthrough/va_output/12/chunks/14.wav 126.69000000000403 128.1600000000041\n",
      " Writing /home/interactionlab/chrisb/modeling-pipeline/data/walkthrough/va_output/12/chunks/15.wav 128.3100000000041 136.3800000000044\n",
      " Writing /home/interactionlab/chrisb/modeling-pipeline/data/walkthrough/va_output/12/chunks/16.wav 137.16000000000443 153.45000000000505\n",
      " Writing /home/interactionlab/chrisb/modeling-pipeline/data/walkthrough/va_output/12/chunks/17.wav 153.48000000000505 167.04000000000556\n",
      " Writing /home/interactionlab/chrisb/modeling-pipeline/data/walkthrough/va_output/12/chunks/18.wav 168.1200000000056 180.78000000000608\n",
      " Writing /home/interactionlab/chrisb/modeling-pipeline/data/walkthrough/va_output/12/chunks/19.wav 181.89000000000613 193.38000000000656\n",
      " Writing /home/interactionlab/chrisb/modeling-pipeline/data/walkthrough/va_output/12/chunks/20.wav 194.01000000000658 201.87000000000688\n",
      " Writing /home/interactionlab/chrisb/modeling-pipeline/data/walkthrough/va_output/12/chunks/21.wav 202.1700000000069 211.35000000000724\n",
      " Writing /home/interactionlab/chrisb/modeling-pipeline/data/walkthrough/va_output/12/chunks/22.wav 211.35000000000724 219.03000000000753\n",
      " Writing /home/interactionlab/chrisb/modeling-pipeline/data/walkthrough/va_output/12/chunks/23.wav 220.41000000000759 242.37000000000842\n",
      "\n",
      "Labels include: \n",
      " ['speaking']\n"
     ]
    },
    {
     "data": {
      "application/json": {
       "ascii": false,
       "bar_format": null,
       "colour": null,
       "elapsed": 0.010923147201538086,
       "initial": 0,
       "n": 0,
       "ncols": null,
       "nrows": null,
       "postfix": null,
       "prefix": "Pandas Apply",
       "rate": null,
       "total": 7272,
       "unit": "it",
       "unit_divisor": 1000,
       "unit_scale": false
      },
      "application/vnd.jupyter.widget-view+json": {
       "model_id": "7bf02809e5aa413c9d6313985444beb5",
       "version_major": 2,
       "version_minor": 0
      },
      "text/plain": [
       "Pandas Apply:   0%|          | 0/7272 [00:00<?, ?it/s]"
      ]
     },
     "metadata": {},
     "output_type": "display_data"
    },
    {
     "data": {
      "application/json": {
       "ascii": false,
       "bar_format": null,
       "colour": null,
       "elapsed": 0.010691642761230469,
       "initial": 0,
       "n": 0,
       "ncols": null,
       "nrows": null,
       "postfix": null,
       "prefix": "Pandas Apply",
       "rate": null,
       "total": 7272,
       "unit": "it",
       "unit_divisor": 1000,
       "unit_scale": false
      },
      "application/vnd.jupyter.widget-view+json": {
       "model_id": "98b8949cd04c4adda79c11ff93f08e9e",
       "version_major": 2,
       "version_minor": 0
      },
      "text/plain": [
       "Pandas Apply:   0%|          | 0/7272 [00:00<?, ?it/s]"
      ]
     },
     "metadata": {},
     "output_type": "display_data"
    },
    {
     "name": "stdout",
     "output_type": "stream",
     "text": [
      "/home/interactionlab/chrisb/modeling-pipeline/data/walkthrough/audio/13/short_example.wav\n",
      " Writing /home/interactionlab/chrisb/modeling-pipeline/data/walkthrough/va_output/13/chunks/00.wav 1.260000000000001 3.149999999999994\n",
      " Writing /home/interactionlab/chrisb/modeling-pipeline/data/walkthrough/va_output/13/chunks/01.wav 4.16999999999999 11.969999999999937\n",
      " Writing /home/interactionlab/chrisb/modeling-pipeline/data/walkthrough/va_output/13/chunks/02.wav 12.239999999999931 13.049999999999914\n",
      " Writing /home/interactionlab/chrisb/modeling-pipeline/data/walkthrough/va_output/13/chunks/03.wav 13.22999999999991 31.08000000000042\n",
      " Writing /home/interactionlab/chrisb/modeling-pipeline/data/walkthrough/va_output/13/chunks/04.wav 33.2400000000005 37.20000000000065\n",
      " Writing /home/interactionlab/chrisb/modeling-pipeline/data/walkthrough/va_output/13/chunks/05.wav 37.77000000000067 48.00000000000106\n",
      " Writing /home/interactionlab/chrisb/modeling-pipeline/data/walkthrough/va_output/13/chunks/06.wav 48.03000000000106 49.0800000000011\n",
      " Writing /home/interactionlab/chrisb/modeling-pipeline/data/walkthrough/va_output/13/chunks/07.wav 49.59000000000112 69.00000000000185\n",
      " Writing /home/interactionlab/chrisb/modeling-pipeline/data/walkthrough/va_output/13/chunks/08.wav 70.77000000000191 109.65000000000339\n",
      " Writing /home/interactionlab/chrisb/modeling-pipeline/data/walkthrough/va_output/13/chunks/09.wav 111.54000000000346 126.18000000000401\n",
      " Writing /home/interactionlab/chrisb/modeling-pipeline/data/walkthrough/va_output/13/chunks/10.wav 126.18000000000401 129.60000000000414\n",
      " Writing /home/interactionlab/chrisb/modeling-pipeline/data/walkthrough/va_output/13/chunks/11.wav 131.49000000000422 136.2000000000044\n",
      " Writing /home/interactionlab/chrisb/modeling-pipeline/data/walkthrough/va_output/13/chunks/12.wav 136.6800000000044 159.21000000000527\n",
      " Writing /home/interactionlab/chrisb/modeling-pipeline/data/walkthrough/va_output/13/chunks/13.wav 159.36000000000527 164.46000000000546\n",
      " Writing /home/interactionlab/chrisb/modeling-pipeline/data/walkthrough/va_output/13/chunks/14.wav 164.85000000000548 188.10000000000636\n",
      "\n",
      " Writing /home/interactionlab/chrisb/modeling-pipeline/data/walkthrough/va_output/13/chunks/15.wav 188.9400000000064 188.9700000000064\n",
      "Labels include: \n",
      " ['speaking']\n"
     ]
    },
    {
     "data": {
      "application/json": {
       "ascii": false,
       "bar_format": null,
       "colour": null,
       "elapsed": 0.010867834091186523,
       "initial": 0,
       "n": 0,
       "ncols": null,
       "nrows": null,
       "postfix": null,
       "prefix": "Pandas Apply",
       "rate": null,
       "total": 5670,
       "unit": "it",
       "unit_divisor": 1000,
       "unit_scale": false
      },
      "application/vnd.jupyter.widget-view+json": {
       "model_id": "898d32b85b7e42a1973262a7c35d7695",
       "version_major": 2,
       "version_minor": 0
      },
      "text/plain": [
       "Pandas Apply:   0%|          | 0/5670 [00:00<?, ?it/s]"
      ]
     },
     "metadata": {},
     "output_type": "display_data"
    },
    {
     "data": {
      "application/json": {
       "ascii": false,
       "bar_format": null,
       "colour": null,
       "elapsed": 0.010653018951416016,
       "initial": 0,
       "n": 0,
       "ncols": null,
       "nrows": null,
       "postfix": null,
       "prefix": "Pandas Apply",
       "rate": null,
       "total": 5670,
       "unit": "it",
       "unit_divisor": 1000,
       "unit_scale": false
      },
      "application/vnd.jupyter.widget-view+json": {
       "model_id": "cbd059aa44074c0ca1ded4f3563bab30",
       "version_major": 2,
       "version_minor": 0
      },
      "text/plain": [
       "Pandas Apply:   0%|          | 0/5670 [00:00<?, ?it/s]"
      ]
     },
     "metadata": {},
     "output_type": "display_data"
    }
   ],
   "source": [
    "from pipeline.feature_extraction.voice_activity_features import get_voice_activity\n",
    "from pipeline.annotation.annotations_to_csv import convert_annotations\n",
    "\n",
    "a_paths = get_dirs_from_config(\"./walkthrough_configs/audio.yml\")\n",
    "va_paths = get_dirs_from_config(\"./walkthrough_configs/VA_annotations.yml\")\n",
    "\n",
    "for i in range(len(a_paths)):\n",
    "    get_voice_activity(a_paths[i],0, va_paths[i])\n",
    "    convert_annotations(va_paths[i]+\"/utterances.json\", va_paths[i]+\"/speaking.csv\", frame_rate=30, json_key=\"utterances\",label_key=\"label\")"
   ]
  },
  {
   "cell_type": "markdown",
   "metadata": {
    "tags": []
   },
   "source": [
    "# 4. Choosing Appropriate Features\n",
    "\n",
    "Feature selection is often a manual process, in which the developer chooses features that they know either from experience or from the literature are most likely to be successful. There are more rigorous approaches however. One of these is to remove redundant features by looking at the level of feature correlation.\n",
    "\n",
    "In this example, we use the function select_by_correlation() to get a list of the uncorrelated features from the csv of Librosa features we extracted earlier."
   ]
  },
  {
   "cell_type": "code",
   "execution_count": 11,
   "metadata": {
    "collapsed": true,
    "jupyter": {
     "outputs_hidden": true
    },
    "tags": []
   },
   "outputs": [
    {
     "name": "stdout",
     "output_type": "stream",
     "text": [
      "Librosa features to use:\n",
      "MFCC_0\n",
      "MFCC_1\n",
      "MFCC_2\n",
      "MFCC_3\n",
      "MFCC_4\n",
      "MFCC_5\n",
      "MFCC_6\n",
      "MFCC_7\n",
      "MFCC_8\n",
      "MFCC_9\n",
      "MFCC_10\n",
      "MFCC_11\n",
      "MFCC_12\n",
      "MFCC_13\n",
      "MFCC_14\n",
      "MFCC_15\n",
      "MFCC_16\n",
      "MFCC_17\n",
      "MFCC_18\n",
      "MFCC_19\n",
      "Chroma_0\n",
      "Chroma_2\n",
      "Chroma_3\n",
      "Chroma_4\n",
      "Chroma_5\n",
      "Chroma_7\n",
      "Chroma_9\n",
      "Mel_Spect_0\n",
      "Mel_Spect_1\n",
      "Mel_Spect_2\n",
      "Mel_Spect_4\n",
      "Mel_Spect_21\n",
      "Mel_Spect_30\n",
      "Mel_Spect_32\n",
      "Mel_Spect_34\n",
      "Mel_Spect_36\n",
      "Mel_Spect_38\n",
      "Mel_Spect_40\n",
      "Mel_Spect_41\n",
      "Mel_Spect_42\n",
      "Mel_Spect_44\n",
      "Mel_Spect_46\n",
      "Mel_Spect_50\n",
      "Mel_Spect_52\n",
      "Mel_Spect_54\n",
      "Mel_Spect_56\n",
      "Mel_Spect_58\n",
      "Mel_Spect_60\n",
      "Mel_Spect_65\n",
      "Mel_Spect_73\n",
      "Mel_Spect_91\n",
      "Spect_Contrast_0\n",
      "Spect_Contrast_1\n",
      "Spect_Contrast_2\n",
      "Spect_Contrast_3\n",
      "Spect_Contrast_4\n",
      "Spect_Contrast_5\n",
      "Spect_Contrast_6\n",
      "Rolloff_0\n",
      "facemesh features to use:\n",
      "x_0\n",
      "y_0\n",
      "y_4\n",
      "y_6\n",
      "y_66\n",
      "opensmile features to use:\n",
      "Loudness_sma3\n",
      "alphaRatio_sma3\n",
      "hammarbergIndex_sma3\n",
      "slope0-500_sma3\n",
      "slope500-1500_sma3\n",
      "mfcc1_sma3\n",
      "mfcc2_sma3\n",
      "mfcc3_sma3\n",
      "F0semitoneFrom27.5Hz_sma3nz\n",
      "jitterLocal_sma3nz\n",
      "shimmerLocaldB_sma3nz\n",
      "HNRdBACF_sma3nz\n",
      "logRelF0-H1-H2_sma3nz\n",
      "logRelF0-H1-A3_sma3nz\n",
      "F1frequency_sma3nz\n",
      "F1bandwidth_sma3nz\n",
      "F2bandwidth_sma3nz\n",
      "F3bandwidth_sma3nz\n"
     ]
    }
   ],
   "source": [
    "from pipeline.modeling.select_features import select_by_correlation\n",
    "\n",
    "feat_paths = get_dirs_from_config(\"./walkthrough_configs/feats.yml\")\n",
    "\n",
    "for i in range(len(feat_paths)):\n",
    "    l = select_by_correlation(feat_paths[i]+\"/librosa_audio.csv\")\n",
    "    print(\"Librosa features to use:\")\n",
    "    for f in l:\n",
    "        print(f)\n",
    "    l = select_by_correlation(feat_paths[i]+\"/mediapipe_facemesh.csv\")\n",
    "    print(\"facemesh features to use:\")\n",
    "    for f in l:\n",
    "        print(f)\n",
    "    l = select_by_correlation(feat_paths[i]+\"/opensmile_audio.csv\")\n",
    "    print(\"opensmile features to use:\")\n",
    "    for f in l:\n",
    "        print(f)\n",
    "    break\n",
    "    \n",
    "\n"
   ]
  },
  {
   "cell_type": "markdown",
   "metadata": {
    "tags": []
   },
   "source": [
    "This feature list is a subset of the total features we extracted.\n",
    "\n",
    "**Before we continue onto the next step**, we should insert this list of features into the data loader configuration file as is shown in \"./walkthrough_configs/data_loader_pearson_config.yml\"\n",
    "\n",
    "The data loader uses a configuration similar to the one we have seen so far, but with some extensions. We use the same format for specifying files, with a directory list and substitutions, however these are nested within feature set labels. Matching these labels we have a list of the features we wish to use, which are available as columns in each of the feature files. We will be using the features we found were uncorrelated in step 4, as well as the annotations. The annotation labels are not treated specially here, and are specified just like the features."
   ]
  },
  {
   "cell_type": "markdown",
   "metadata": {},
   "source": [
    "# Next Steps\n",
    "\n",
    "Head over to the walkthrough_part_2.ipynb to see how to train a model!"
   ]
  }
 ],
 "metadata": {
  "kernelspec": {
   "display_name": "Python 3",
   "language": "python",
   "name": "python3"
  },
  "language_info": {
   "codemirror_mode": {
    "name": "ipython",
    "version": 3
   },
   "file_extension": ".py",
   "mimetype": "text/x-python",
   "name": "python",
   "nbconvert_exporter": "python",
   "pygments_lexer": "ipython3",
   "version": "3.8.5"
  }
 },
 "nbformat": 4,
 "nbformat_minor": 4
}
