{
 "cells": [
  {
   "cell_type": "code",
   "execution_count": 3,
   "metadata": {},
   "outputs": [
    {
     "data": {
      "text/plain": [
       "['/home/chris/coding/usc/modeling-pipeline',\n",
       " '/home/chris/coding/usc/modeling-pipeline',\n",
       " '/home/chris/coding/usc',\n",
       " '/home/chris/coding/usc/modeling-pipeline/examples',\n",
       " '/home/chris/USC/multy-party/naoqi/pynaoqi-python2.7-2.1.2.17-linux64',\n",
       " '/home/chris/coding/usc/modeling-pipeline/examples',\n",
       " '/home/chris/anaconda3/envs/pipeline/lib/python38.zip',\n",
       " '/home/chris/anaconda3/envs/pipeline/lib/python3.8',\n",
       " '/home/chris/anaconda3/envs/pipeline/lib/python3.8/lib-dynload',\n",
       " '',\n",
       " '/home/chris/anaconda3/envs/pipeline/lib/python3.8/site-packages',\n",
       " '/home/chris/anaconda3/envs/pipeline/lib/python3.8/site-packages/IPython/extensions',\n",
       " '/home/chris/.ipython']"
      ]
     },
     "execution_count": 3,
     "metadata": {},
     "output_type": "execute_result"
    }
   ],
   "source": [
    "import sys\n",
    "import os\n",
    "sys.path.insert(0, os.path.abspath('..'))\n",
    "\n",
    "sys.path"
   ]
  },
  {
   "cell_type": "code",
   "execution_count": 6,
   "metadata": {},
   "outputs": [],
   "source": [
    "from pipeline.common.file_utils import move_files\n",
    "move_files(\"./src.yml\", \"./dst.yml\", \"*.mp4\")"
   ]
  },
  {
   "cell_type": "code",
   "execution_count": null,
   "metadata": {},
   "outputs": [],
   "source": []
  }
 ],
 "metadata": {
  "kernelspec": {
   "display_name": "Python 3.8.6 64-bit ('pipeline': conda)",
   "language": "python",
   "name": "python38664bitpipelineconda29ad67dbdd0f427bb89e91c6e8310500"
  },
  "language_info": {
   "codemirror_mode": {
    "name": "ipython",
    "version": 3
   },
   "file_extension": ".py",
   "mimetype": "text/x-python",
   "name": "python",
   "nbconvert_exporter": "python",
   "pygments_lexer": "ipython3",
   "version": "3.8.6"
  }
 },
 "nbformat": 4,
 "nbformat_minor": 4
}
