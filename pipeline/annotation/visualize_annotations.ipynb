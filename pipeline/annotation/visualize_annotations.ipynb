{
 "metadata": {
  "language_info": {
   "codemirror_mode": {
    "name": "ipython",
    "version": 3
   },
   "file_extension": ".py",
   "mimetype": "text/x-python",
   "name": "python",
   "nbconvert_exporter": "python",
   "pygments_lexer": "ipython3",
   "version": "3.6.11-final"
  },
  "orig_nbformat": 2,
  "kernelspec": {
   "name": "python361164bite35865154f7d45b5894780dbfbb9213f",
   "display_name": "Python 3.6.11 64-bit"
  }
 },
 "nbformat": 4,
 "nbformat_minor": 2,
 "cells": [
  {
   "cell_type": "code",
   "execution_count": 1,
   "metadata": {},
   "outputs": [],
   "source": [
    "import pandas as pd\n",
    "import numpy as np\n",
    "from scipy import stats\n",
    "import matplotlib.pyplot as plt\n",
    "import os\n",
    "import json"
   ]
  },
  {
   "cell_type": "code",
   "execution_count": 3,
   "metadata": {},
   "outputs": [],
   "source": [
    "BASE_PATH_TO_DATA = \"/media/chris/M2\"\n",
    "TRUST_ANNOTATIONS = f\"{BASE_PATH_TO_DATA}/1-Raw_Data/Trust Annotations\"\n",
    "TURN_ANNOTATIONS = f\"{BASE_PATH_TO_DATA}/2-Processed_Data/Annotation-Turns\"\n",
    "SURVEYS = f\"{BASE_PATH_TO_DATA}/1-Raw_Data/Survey/\"\n",
    "\n",
    "mapping_survey = {\n",
    "    \"The black spot\": \"right\",\n",
    "    \"The gray checkered spot\": \"center\",\n",
    "    \"The white spot\": \"left\",\n",
    "}\n",
    "mapping_survey2 = {\n",
    "    \"B\": \"right\",\n",
    "    \"G\": \"center\",\n",
    "    \"W\": \"left\",\n",
    "    \"R\": \"bot\"\n",
    "}\n",
    "mapping_annotation = {\n",
    "    \"Black Spot\": \"right\",\n",
    "    \"Grey Spot\": \"center\",\n",
    "    \"White Spot\": \"left\",\n",
    "    \"Robot\": \"bot\"\n",
    "}\n"
   ]
  },
  {
   "source": [
    "For each session\n",
    "   - for each person\n",
    "       - find out \n",
    "           - [] time spoken (perc, total)\n",
    "           - [] willingness to annotate trust\n",
    "           - [] annotation delta for each spot\n",
    "            "
   ],
   "cell_type": "markdown",
   "metadata": {}
  },
  {
   "cell_type": "code",
   "execution_count": 2,
   "metadata": {},
   "outputs": [],
   "source": [
    "def find_files(filePath, file_key= \".mp4\"):\n",
    "    sessions = {}\n",
    "    for folder in os.listdir(filePath):\n",
    "        newPath = os.path.join(filePath,folder)\n",
    "        if (os.path.isdir(newPath)):\n",
    "            for fileName in os.listdir(newPath):\n",
    "                if file_key in fileName:\n",
    "                    sessions[folder] = os.path.join(newPath,fileName)\n",
    "    return sessions\n",
    "\n",
    "def find_trust_annotations(filePath, file_key= \".json\"):\n",
    "    key = {}\n",
    "    for folder in os.listdir(filePath):\n",
    "        newPath = os.path.join(filePath,folder)\n",
    "        if (os.path.isdir(newPath)):\n",
    "            for fileName in os.listdir(newPath):\n",
    "                if file_key in fileName:\n",
    "                    key[fileName[:4]] = os.path.join(newPath,fileName)\n",
    "    return key\n",
    "\n",
    "def plot_trust_measure(id, updated_data):\n",
    "    fig, axs = plt.subplots(2,2)\n",
    "    seat = \"left\"\n",
    "    t, s = updated_data[seat][\"time\"], updated_data[seat][\"score\"]\n",
    "    axs[0,0].plot(t, s)\n",
    "    axs[0,0].set_title(f\"{id}-{seat}\")\n",
    "\n",
    "    seat = \"right\"\n",
    "    t, s = updated_data[seat][\"time\"], updated_data[seat][\"score\"]\n",
    "    axs[0,1].plot(t, s)\n",
    "    axs[0,1].set_title(f\"{id}-{seat}\")\n",
    "\n",
    "    seat = \"center\"\n",
    "    t, s = updated_data[seat][\"time\"], updated_data[seat][\"score\"]\n",
    "    axs[1,0].plot(t, s)\n",
    "    axs[1,0].set_title(f\"{id}-{seat}\")\n",
    "\n",
    "    seat = \"bot\"\n",
    "    t, s = updated_data[seat][\"time\"], updated_data[seat][\"score\"]\n",
    "    axs[1,1].plot(t, s)\n",
    "    axs[1,1].set_title(f\"{id}-{seat}\")\n",
    "    for ax in axs.flat:\n",
    "        ax.label_outer()\n",
    "    plt.show()\n",
    "    \n",
    "def get_person_trust(id, path):\n",
    "    with open(person) as f:\n",
    "        trust_data = json.load(f)\n",
    "        updated_data = {}\n",
    "        total = 0\n",
    "        for seat, presses in trust_data.items():\n",
    "            seat = mapping_annotation[seat]\n",
    "            times, press_val = [], []\n",
    "            # presses = sorted(presses, key=lambda k: k['time']) \n",
    "            for keypress in presses:\n",
    "                if keypress[\"time\"] != 0:\n",
    "                    times.append(keypress[\"time\"])\n",
    "                    press_val.append(keypress[\"points\"])\n",
    "            total_val = [sum(press_val[:i]) for i in range(len(press_val))]\n",
    "            new_times = [int(t*30) for t in times]\n",
    "            total += len(total_val)\n",
    "            updated_data[seat] = {\"time\": new_times, \"score\": total_val}\n",
    "    return updated_data, total\n"
   ]
  },
  {
   "cell_type": "code",
   "execution_count": 59,
   "metadata": {
    "tags": []
   },
   "outputs": [
    {
     "output_type": "display_data",
     "data": {
      "text/plain": "    Unnamed: 0  Unnamed: 0.1  Unnamed: 0.1.1             Date    ID  Gender  \\\n0            0             0               0  4/16/2019 11:42  AUI6  Female   \n1            1             1               1  4/16/2019 14:12  V7QK    Male   \n2            2             2               2  4/16/2019 11:47  IQJ8    Male   \n3            3             3               3  4/16/2019 16:44  MSOJ    Male   \n4            4             4               4  4/16/2019 16:45  4PVU  Female   \n..         ...           ...             ...              ...   ...     ...   \n64          64            64              76  4/28/2019 17:48  XMSA  Female   \n65          65            65              77  4/28/2019 17:49  S204  Female   \n66          66            66              78  4/28/2019 19:57  P3HP    Male   \n67          67            67              79  4/28/2019 19:59  Q1CO  Female   \n68          68            68              80  4/28/2019 19:57  lyit    Male   \n\n    Age                         Ethnicity          Education Robot_Experience  \\\n0    21                             Asian    High School/GED         A little   \n1    24                             Asian    Master’s Degree             Some   \n2    24                             Asian    Master’s Degree         A little   \n3    23                             Asian    Master’s Degree             Some   \n4    21                             Asian    High School/GED         A little   \n..  ...                               ...                ...              ...   \n64   19  Hispanic/Latino,African American    High School/GED             Some   \n65   23                             Asian    Master’s Degree             None   \n66   21                  African American  Bachelor’s Degree             Some   \n67   22                             Asian  Bachelor’s Degree             None   \n68   26                             Asian  Bachelor’s Degree             Some   \n\n    ... Emp_Personal_Distress Emp_Overall  session  perc_speaking  total_qs  \\\n0   ...                    13          70        1      21.582792        20   \n1   ...                    11          66        1      22.702922        20   \n2   ...                    18          76        1      34.439935        20   \n3   ...                    13          71        2      27.992754        19   \n4   ...                    21          68        2      33.835749        19   \n..  ...                   ...         ...      ...            ...       ...   \n64  ...                     6          70       26      23.659070        21   \n65  ...                    10          61       26      23.163404        21   \n66  ...                     3          75       27      29.208999        10   \n67  ...                    22          86       27      37.832608        10   \n68  ...                    16          75       27      22.675375        10   \n\n    total_annotations  bot_trust_ann  left_trust_ann  right_trust_ann  \\\n0                   0              0               0                0   \n1                  20              1               0                7   \n2                  41              6               7               11   \n3                   0              0               0                0   \n4                   0              0               0                0   \n..                ...            ...             ...              ...   \n64                 43              2              19               17   \n65                 21              0               0                7   \n66                 85              3              30                0   \n67                 28              0               0               12   \n68                 78              4              10                7   \n\n    center_trust_ann  \n0                  0  \n1                  5  \n2                  1  \n3                  0  \n4                  0  \n..               ...  \n64                 1  \n65                 7  \n66                27  \n67                12  \n68                -1  \n\n[69 rows x 315 columns]",
      "text/html": "<div>\n<style scoped>\n    .dataframe tbody tr th:only-of-type {\n        vertical-align: middle;\n    }\n\n    .dataframe tbody tr th {\n        vertical-align: top;\n    }\n\n    .dataframe thead th {\n        text-align: right;\n    }\n</style>\n<table border=\"1\" class=\"dataframe\">\n  <thead>\n    <tr style=\"text-align: right;\">\n      <th></th>\n      <th>Unnamed: 0</th>\n      <th>Unnamed: 0.1</th>\n      <th>Unnamed: 0.1.1</th>\n      <th>Date</th>\n      <th>ID</th>\n      <th>Gender</th>\n      <th>Age</th>\n      <th>Ethnicity</th>\n      <th>Education</th>\n      <th>Robot_Experience</th>\n      <th>...</th>\n      <th>Emp_Personal_Distress</th>\n      <th>Emp_Overall</th>\n      <th>session</th>\n      <th>perc_speaking</th>\n      <th>total_qs</th>\n      <th>total_annotations</th>\n      <th>bot_trust_ann</th>\n      <th>left_trust_ann</th>\n      <th>right_trust_ann</th>\n      <th>center_trust_ann</th>\n    </tr>\n  </thead>\n  <tbody>\n    <tr>\n      <th>0</th>\n      <td>0</td>\n      <td>0</td>\n      <td>0</td>\n      <td>4/16/2019 11:42</td>\n      <td>AUI6</td>\n      <td>Female</td>\n      <td>21</td>\n      <td>Asian</td>\n      <td>High School/GED</td>\n      <td>A little</td>\n      <td>...</td>\n      <td>13</td>\n      <td>70</td>\n      <td>1</td>\n      <td>21.582792</td>\n      <td>20</td>\n      <td>0</td>\n      <td>0</td>\n      <td>0</td>\n      <td>0</td>\n      <td>0</td>\n    </tr>\n    <tr>\n      <th>1</th>\n      <td>1</td>\n      <td>1</td>\n      <td>1</td>\n      <td>4/16/2019 14:12</td>\n      <td>V7QK</td>\n      <td>Male</td>\n      <td>24</td>\n      <td>Asian</td>\n      <td>Master’s Degree</td>\n      <td>Some</td>\n      <td>...</td>\n      <td>11</td>\n      <td>66</td>\n      <td>1</td>\n      <td>22.702922</td>\n      <td>20</td>\n      <td>20</td>\n      <td>1</td>\n      <td>0</td>\n      <td>7</td>\n      <td>5</td>\n    </tr>\n    <tr>\n      <th>2</th>\n      <td>2</td>\n      <td>2</td>\n      <td>2</td>\n      <td>4/16/2019 11:47</td>\n      <td>IQJ8</td>\n      <td>Male</td>\n      <td>24</td>\n      <td>Asian</td>\n      <td>Master’s Degree</td>\n      <td>A little</td>\n      <td>...</td>\n      <td>18</td>\n      <td>76</td>\n      <td>1</td>\n      <td>34.439935</td>\n      <td>20</td>\n      <td>41</td>\n      <td>6</td>\n      <td>7</td>\n      <td>11</td>\n      <td>1</td>\n    </tr>\n    <tr>\n      <th>3</th>\n      <td>3</td>\n      <td>3</td>\n      <td>3</td>\n      <td>4/16/2019 16:44</td>\n      <td>MSOJ</td>\n      <td>Male</td>\n      <td>23</td>\n      <td>Asian</td>\n      <td>Master’s Degree</td>\n      <td>Some</td>\n      <td>...</td>\n      <td>13</td>\n      <td>71</td>\n      <td>2</td>\n      <td>27.992754</td>\n      <td>19</td>\n      <td>0</td>\n      <td>0</td>\n      <td>0</td>\n      <td>0</td>\n      <td>0</td>\n    </tr>\n    <tr>\n      <th>4</th>\n      <td>4</td>\n      <td>4</td>\n      <td>4</td>\n      <td>4/16/2019 16:45</td>\n      <td>4PVU</td>\n      <td>Female</td>\n      <td>21</td>\n      <td>Asian</td>\n      <td>High School/GED</td>\n      <td>A little</td>\n      <td>...</td>\n      <td>21</td>\n      <td>68</td>\n      <td>2</td>\n      <td>33.835749</td>\n      <td>19</td>\n      <td>0</td>\n      <td>0</td>\n      <td>0</td>\n      <td>0</td>\n      <td>0</td>\n    </tr>\n    <tr>\n      <th>...</th>\n      <td>...</td>\n      <td>...</td>\n      <td>...</td>\n      <td>...</td>\n      <td>...</td>\n      <td>...</td>\n      <td>...</td>\n      <td>...</td>\n      <td>...</td>\n      <td>...</td>\n      <td>...</td>\n      <td>...</td>\n      <td>...</td>\n      <td>...</td>\n      <td>...</td>\n      <td>...</td>\n      <td>...</td>\n      <td>...</td>\n      <td>...</td>\n      <td>...</td>\n      <td>...</td>\n    </tr>\n    <tr>\n      <th>64</th>\n      <td>64</td>\n      <td>64</td>\n      <td>76</td>\n      <td>4/28/2019 17:48</td>\n      <td>XMSA</td>\n      <td>Female</td>\n      <td>19</td>\n      <td>Hispanic/Latino,African American</td>\n      <td>High School/GED</td>\n      <td>Some</td>\n      <td>...</td>\n      <td>6</td>\n      <td>70</td>\n      <td>26</td>\n      <td>23.659070</td>\n      <td>21</td>\n      <td>43</td>\n      <td>2</td>\n      <td>19</td>\n      <td>17</td>\n      <td>1</td>\n    </tr>\n    <tr>\n      <th>65</th>\n      <td>65</td>\n      <td>65</td>\n      <td>77</td>\n      <td>4/28/2019 17:49</td>\n      <td>S204</td>\n      <td>Female</td>\n      <td>23</td>\n      <td>Asian</td>\n      <td>Master’s Degree</td>\n      <td>None</td>\n      <td>...</td>\n      <td>10</td>\n      <td>61</td>\n      <td>26</td>\n      <td>23.163404</td>\n      <td>21</td>\n      <td>21</td>\n      <td>0</td>\n      <td>0</td>\n      <td>7</td>\n      <td>7</td>\n    </tr>\n    <tr>\n      <th>66</th>\n      <td>66</td>\n      <td>66</td>\n      <td>78</td>\n      <td>4/28/2019 19:57</td>\n      <td>P3HP</td>\n      <td>Male</td>\n      <td>21</td>\n      <td>African American</td>\n      <td>Bachelor’s Degree</td>\n      <td>Some</td>\n      <td>...</td>\n      <td>3</td>\n      <td>75</td>\n      <td>27</td>\n      <td>29.208999</td>\n      <td>10</td>\n      <td>85</td>\n      <td>3</td>\n      <td>30</td>\n      <td>0</td>\n      <td>27</td>\n    </tr>\n    <tr>\n      <th>67</th>\n      <td>67</td>\n      <td>67</td>\n      <td>79</td>\n      <td>4/28/2019 19:59</td>\n      <td>Q1CO</td>\n      <td>Female</td>\n      <td>22</td>\n      <td>Asian</td>\n      <td>Bachelor’s Degree</td>\n      <td>None</td>\n      <td>...</td>\n      <td>22</td>\n      <td>86</td>\n      <td>27</td>\n      <td>37.832608</td>\n      <td>10</td>\n      <td>28</td>\n      <td>0</td>\n      <td>0</td>\n      <td>12</td>\n      <td>12</td>\n    </tr>\n    <tr>\n      <th>68</th>\n      <td>68</td>\n      <td>68</td>\n      <td>80</td>\n      <td>4/28/2019 19:57</td>\n      <td>lyit</td>\n      <td>Male</td>\n      <td>26</td>\n      <td>Asian</td>\n      <td>Bachelor’s Degree</td>\n      <td>Some</td>\n      <td>...</td>\n      <td>16</td>\n      <td>75</td>\n      <td>27</td>\n      <td>22.675375</td>\n      <td>10</td>\n      <td>78</td>\n      <td>4</td>\n      <td>10</td>\n      <td>7</td>\n      <td>-1</td>\n    </tr>\n  </tbody>\n</table>\n<p>69 rows × 315 columns</p>\n</div>"
     },
     "metadata": {}
    }
   ],
   "source": [
    "surv_path = f\"{SURVEYS}/scored_surveys_analysis_copy.csv\"\n",
    "scored_people  = pd.read_csv(surv_path)\n",
    "trust_in_an = find_trust_annotations(TRUST_ANNOTATIONS, \".json\")\n",
    "turns = find_files(TURN_ANNOTATIONS, \".csv\")\n",
    "\n",
    "# print(turns)\n",
    "# updated_data[seat] = {\"time\": new_times, \"score\": total_val}\n",
    "\n",
    "# for id, person in trust_in_an.items():\n",
    "#     # print(id.upper(), person)\n",
    "#     # Get net change in trust, \n",
    "#     updated_data, t = get_person_trust(id,person)\n",
    "#     annotating[id.upper()] = {\"d\": updated_data, \"t\": t}\n",
    "# # Add missing AUI6\n",
    "# for k,v in updated_data.items():\n",
    "#     updated_data[k][\"time\"]=[]\n",
    "#     updated_data[k][\"score\"]=[0]\n",
    "# annotating[\"AUI6\"] = {\"d\": updated_data, \"t\": 0}\n",
    "# annotating[\"MSOJ\"] = {\"d\": updated_data, \"t\": 0}\n",
    "# annotating[\"EGZI\"] = {\"d\": updated_data, \"t\": 0}\n",
    "# annotating[\"qq38\"] = {\"d\": updated_data, \"t\": 0}\n",
    "# annotating[\"DD58\"] = {\"d\": updated_data, \"t\": 0}\n",
    "# annotating[\"Fish\"] = {\"d\": updated_data, \"t\": 0}\n",
    "# annotating[\"30UW\"] = {\"d\": updated_data, \"t\": 0}\n",
    "# annotating[\"8915841068\"] = {\"d\": updated_data, \"t\": t}\n",
    "\n",
    "# for k,v in annotating.items():\n",
    "#     for k2,v2 in annotating[k]['d'].items():\n",
    "#         if len(annotating[k]['d'][k2][\"score\"]) == 0:\n",
    "#             annotating[k]['d'][k2][\"score\"] = [0]\n",
    "\n",
    "\n",
    "# # print(annotating)\n",
    "# scored_people[\"total_annotations\"] = scored_people.apply(lambda row: annotating[str(row['ID'])][\"t\"], axis = 1)\n",
    "\n",
    "# for s in [\"bot\", \"left\", \"right\", \"center\"]:\n",
    "#     scored_people[f\"{s}_trust_ann\"] = scored_people.apply(lambda row: annotating[str(row['ID'])][\"d\"][s]['score'][-1], axis = 1)\n",
    "\n",
    "# scored_people.to_csv(surv_path)\n",
    "# display(scored_people)\n",
    "from pandas_profiling import ProfileReport\n",
    "profile = ProfileReport(scored_people, title='Pandas Profiling Report', explorative=True)\n",
    "profile.to_file(\"your_report.html\")"
   ]
  },
  {
   "cell_type": "code",
   "execution_count": 31,
   "metadata": {},
   "outputs": [
    {
     "output_type": "stream",
     "name": "stdout",
     "text": [
      "1 0\n0 1\n1 0\n0 1\n"
     ]
    }
   ],
   "source": []
  },
  {
   "source": [
    "session_df: [talking: l, r, c, b | Trust: l-> r,c,b; r-> l,c,b; c-> l,r,b] \n",
    "Questions:\n",
    " - Who is talking when trust in a person changes?\n",
    " - How is personality correlated with trust changes?\n",
    " - How is the trust survey differential related to the rated changes?\n"
   ],
   "cell_type": "markdown",
   "metadata": {}
  },
  {
   "cell_type": "code",
   "execution_count": null,
   "metadata": {},
   "outputs": [],
   "source": [
    "\n",
    "    # plot_trust_measure(id, updated_data)\n",
    "    # break\n",
    "\n",
    "# speaking = {}\n",
    "# for t, turn_file in turns.items():\n",
    "#     speaking[t] = {}\n",
    "#     with open(turn_file) as f:\n",
    "#         df = pd.read_csv(f)\n",
    "#         l = df[\"bot\"].to_list()\n",
    "#         c = 0\n",
    "#         for i in range(len(l)-1):\n",
    "#             if l[i] == 0 and l[i+1] == 1:\n",
    "#                 c +=1\n",
    "#         speaking[t] = c\n",
    "#         # for c in df.columns:\n",
    "#             # speaking[t][c] = 100*df[c].sum()/df.shape[0]\n",
    "#             # print(t, c, 100*df[c].sum()/df.shape[0])\n",
    "#         # df.plot(figsize=(25,3))\n",
    "#         # break\n",
    "\n",
    "# print(speaking)\n",
    "# scored_people[\"total_qs\"] = scored_people.apply(lambda row: speaking[str(row['session'])], axis = 1)\n",
    "# scored_people.to_csv(surv_path)\n",
    "\n",
    "# for s, d in updated_data.items():\n",
    "#     for i in range(len(d[\"time\"])):\n",
    "#         t = d[\"time\"][i]\n",
    "#         print(s, df.iloc[t])"
   ]
  }
 ]
}